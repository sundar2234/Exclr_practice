{
 "cells": [
  {
   "cell_type": "code",
   "execution_count": 1,
   "id": "5efc5027-2f87-451b-8879-1963952668e1",
   "metadata": {},
   "outputs": [
    {
     "name": "stdout",
     "output_type": "stream",
     "text": [
      "Collecting emot\n",
      "  Downloading emot-3.1-py3-none-any.whl.metadata (396 bytes)\n",
      "Downloading emot-3.1-py3-none-any.whl (61 kB)\n",
      "Installing collected packages: emot\n",
      "Successfully installed emot-3.1\n"
     ]
    }
   ],
   "source": [
    "!pip install emot"
   ]
  },
  {
   "cell_type": "code",
   "execution_count": 27,
   "id": "8ed2ae54-392c-4fdc-9e8e-f297695c78f0",
   "metadata": {},
   "outputs": [],
   "source": [
    "# window + .\n",
    "text1 = \"What are you saying 😂 I am the boss 😎 why are you so 😒\""
   ]
  },
  {
   "cell_type": "code",
   "execution_count": 29,
   "id": "ef5b1a62-811a-40d4-9172-d29d1e353b56",
   "metadata": {},
   "outputs": [],
   "source": [
    "import re\n",
    "from emot.emo_unicode import UNICODE_EMOJI\n",
    "from emot.emo_unicode import EMOTICONS_EMO"
   ]
  },
  {
   "cell_type": "code",
   "execution_count": 31,
   "id": "8d4d1bbb-e434-47ee-b4f9-2ec21a6c7f5e",
   "metadata": {},
   "outputs": [
    {
     "data": {
      "text/plain": [
       "'What are you saying 😂 I am the boss 😎 why are you so 😒'"
      ]
     },
     "execution_count": 31,
     "metadata": {},
     "output_type": "execute_result"
    }
   ],
   "source": [
    "def converting_emojis(text): \n",
    "    for emot in UNICODE_EMOJI: \n",
    "        text = text.replace(emot, \"_\".join(UNICODE_EMOJI [emot].replace(\",\",\"\").replace(\":\",\"\").split())) \n",
    "        return text \n",
    "converting_emojis(text1)"
   ]
  },
  {
   "cell_type": "code",
   "execution_count": 41,
   "id": "b7af5b51-c54e-48d9-9077-3e8807ac4a3a",
   "metadata": {},
   "outputs": [
    {
     "data": {
      "text/plain": [
       "'What are you saying   I am the boss   why are you so  '"
      ]
     },
     "execution_count": 41,
     "metadata": {},
     "output_type": "execute_result"
    }
   ],
   "source": [
    "def emoji_removal(string): \n",
    "    emoji_unicodes = re.compile(\"[\" \n",
    "                                u\"\\U0001F600-\\U0001F64F\" \n",
    "                                u\"\\U0001F300-\\U0001F5FF\"\n",
    "                                u\"\\U0001F680-\\U0001F6FF\" \n",
    "                                u\"\\U0001F1E0-\\U0001F1FF\" \n",
    "                                u\"\\U00002500-\\U00002BEF\" \n",
    "                                u\"\\U00002702-\\U000027B0\" \n",
    "                                u\"\\U000024C2-\\U0001F251\" \n",
    "                                u\"\\U0001f926-\\U0001f937\" \n",
    "                                u\"\\U00010000-\\U0010ffff\" \n",
    "                                u\"\\u2640-\\u2642\" \n",
    "                                u\"\\u2600-\\u2B55\" \n",
    "                                u\"\\u200d\" \n",
    "                                u\"\\u23cf\" \n",
    "                                u\"\\u23e9\" \n",
    "                                u\"\\u231a\" \n",
    "                                u\"\\ufe0f\" \n",
    "                                u\"\\u3030\" \n",
    "                                \"]+\", flags=re.UNICODE) \n",
    "    return emoji_unicodes.sub(r' ', string) \n",
    "emoji_removal(text1)"
   ]
  },
  {
   "cell_type": "code",
   "execution_count": null,
   "id": "7eb01945-a27a-47b4-ac21-e7db602dd124",
   "metadata": {},
   "outputs": [],
   "source": []
  }
 ],
 "metadata": {
  "kernelspec": {
   "display_name": "Python 3 (ipykernel)",
   "language": "python",
   "name": "python3"
  },
  "language_info": {
   "codemirror_mode": {
    "name": "ipython",
    "version": 3
   },
   "file_extension": ".py",
   "mimetype": "text/x-python",
   "name": "python",
   "nbconvert_exporter": "python",
   "pygments_lexer": "ipython3",
   "version": "3.12.7"
  }
 },
 "nbformat": 4,
 "nbformat_minor": 5
}
