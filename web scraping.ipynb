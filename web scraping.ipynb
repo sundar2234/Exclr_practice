{
 "cells": [
  {
   "cell_type": "code",
   "execution_count": 4,
   "id": "f19bff31-a7af-4917-a6dd-b7b752fbe8bc",
   "metadata": {},
   "outputs": [
    {
     "name": "stdout",
     "output_type": "stream",
     "text": [
      "1.\"“The world as we have created it is a process of our thinking. It cannot be changed without changing our thinking.”\" -Albert Einstein\n",
      "Tags:change, deep-thoughts, thinking, world\n",
      "\n",
      "2.\"“It is our choices, Harry, that show what we truly are, far more than our abilities.”\" -J.K. Rowling\n",
      "Tags:abilities, choices\n",
      "\n",
      "3.\"“There are only two ways to live your life. One is as though nothing is a miracle. The other is as though everything is a miracle.”\" -Albert Einstein\n",
      "Tags:inspirational, life, live, miracle, miracles\n",
      "\n",
      "4.\"“The person, be it gentleman or lady, who has not pleasure in a good novel, must be intolerably stupid.”\" -Jane Austen\n",
      "Tags:aliteracy, books, classic, humor\n",
      "\n",
      "5.\"“Imperfection is beauty, madness is genius and it's better to be absolutely ridiculous than absolutely boring.”\" -Marilyn Monroe\n",
      "Tags:be-yourself, inspirational\n",
      "\n"
     ]
    }
   ],
   "source": [
    "import requests\n",
    "from bs4 import BeautifulSoup\n",
    "url=\"http://quotes.toscrape.com/\"\n",
    "response=requests.get(url)\n",
    "if response.status_code==200:\n",
    "  soup=BeautifulSoup(response.text,\"html.parser\")\n",
    "  quotes=soup.find_all(\"div\",class_=\"quote\")\n",
    "  for i,quote in enumerate(quotes[:5]):\n",
    "    text=quote.find(\"span\",class_=\"text\").text\n",
    "    author=quote.find(\"small\",class_=\"author\").text\n",
    "    tags=[tag.text for tag in quote.find_all(\"a\",class_=\"tag\")]\n",
    "\n",
    "    print(f\"{i+1}.\\\"{text}\\\" -{author}\")\n",
    "    print(f\"Tags:{', '.join(tags)}\\n\")\n",
    "else:\n",
    "  print(\"Failed to retrieve the webpage\",response.status_code)"
   ]
  },
  {
   "cell_type": "code",
   "execution_count": 6,
   "id": "9bd1be63-8058-410f-be57-cae5fd7d5add",
   "metadata": {},
   "outputs": [
    {
     "name": "stdout",
     "output_type": "stream",
     "text": [
      "Current Weather in Hyderabad: 32 °C | Clear.\n"
     ]
    }
   ],
   "source": [
    "import requests\n",
    "from bs4 import BeautifulSoup\n",
    "city=\"india/hyderabad\"\n",
    "\n",
    "\n",
    "url=f\"https://www.timeanddate.com/weather/{city}\"\n",
    "response=requests.get(url)\n",
    "soup=BeautifulSoup(response.text,\"html.parser\")\n",
    "temp=soup.find(\"div\",class_=\"h2\").text.strip() if soup.find(\"div\",class_=\"h2\") else \"N/A\"\n",
    "desc=soup.find(\"p\").text.strip() if soup.find(\"p\") else \"N/A\"\n",
    "\n",
    "print(f\"Current Weather in Hyderabad: {temp} | {desc}\")"
   ]
  },
  {
   "cell_type": "code",
   "execution_count": 8,
   "id": "2d4714c3-6a19-44e6-b1f3-1066bc39adf5",
   "metadata": {},
   "outputs": [],
   "source": [
    "import requests\n",
    "from bs4 import BeautifulSoup\n",
    "\n",
    "search_url=\"https://www.amazon.in/s?k=iPhone+15+plus\"\n",
    "headers = {\n",
    "    \"User-Agent\": \"Mozilla/5.0 (Windows NT 10.0; Win64; x64) AppleWebKit/537.36 (KHTML, like Gecko) Chrome/118.0.0.0 Safari/537.36\",\n",
    "    \"Accept-Language\": \"en-US,en;q=0.9\",\n",
    "}\n",
    "if response.status_code == 200:\n",
    "  response=requests.get(search_url,headers=headers)\n",
    "  soup=BeautifulSoup(response.text,\"html.parser\")\n",
    "  product=soup.select_one(\"span.a-size-medium\")\n",
    "  price=soup.select_one(\"span-price-whole\")\n",
    "\n",
    "  if  product and price:\n",
    "    print(f\"Product Name:{product.text.strip()}\")\n",
    "    print(f\"Price: Rs.{price.text.strip()}\")\n",
    "else:\n",
    "  print(\"could not find product details.\")"
   ]
  },
  {
   "cell_type": "code",
   "execution_count": 10,
   "id": "27e8c5e6-7547-46c8-a8e1-d9a787c859c9",
   "metadata": {},
   "outputs": [
    {
     "name": "stdout",
     "output_type": "stream",
     "text": [
      "Product Name: iPhone 15 Plus. Newphoria\n",
      "Price: Rs.71,900\n"
     ]
    }
   ],
   "source": [
    "import requests\n",
    "from bs4 import BeautifulSoup\n",
    "\n",
    "search_url = \"https://www.amazon.in/s?k=iPhone+15+plus\"\n",
    "headers = {\n",
    "    \"User-Agent\": \"Mozilla/5.0 (Windows NT 10.0; Win64; x64) AppleWebKit/537.36 (KHTML, like Gecko) Chrome/118.0.0.0 Safari/537.36\",\n",
    "    \"Accept-Language\": \"en-US,en;q=0.9\",\n",
    "}\n",
    "\n",
    "response = requests.get(search_url, headers=headers)\n",
    "\n",
    "if response.status_code == 200:\n",
    "    soup = BeautifulSoup(response.text, \"html.parser\")\n",
    "\n",
    "    product = soup.select_one(\"span.a-size-medium\")\n",
    "    price = soup.select_one(\"span.a-price-whole\")\n",
    "\n",
    "    if product and price:\n",
    "        print(f\"Product Name: {product.text.strip()}\")\n",
    "        print(f\"Price: Rs.{price.text.strip()}\")\n",
    "    else:\n",
    "        print(\"Could not find product details.\")\n",
    "else:\n",
    "    print(\"Failed to retrieve the page. Status Code:\", response.status_code)\n"
   ]
  },
  {
   "cell_type": "code",
   "execution_count": 12,
   "id": "482b86ff-4013-4fcb-b40e-31c9e56d05d8",
   "metadata": {},
   "outputs": [
    {
     "name": "stdout",
     "output_type": "stream",
     "text": [
      "World:8,119,000,000\n",
      "China:1,408,280,000\n",
      "1,402,737,000:17.2%\n",
      "United States:340,110,988\n",
      "Indonesia:282,477,584\n"
     ]
    }
   ],
   "source": [
    "import requests\n",
    "from bs4 import BeautifulSoup\n",
    "url=\"https://en.wikipedia.org/wiki/List_of_countries_and_dependencies_by_population\"\n",
    "response=requests.get(url,headers=headers)\n",
    "soup=BeautifulSoup(response.text,\"html.parser\")\n",
    "table=soup.find(\"table\",class_=\"wikitable\")\n",
    "for row in table.find_all(\"tr\")[1:6]:\n",
    "  columns=row.find_all(\"td\")\n",
    "  country=columns[1].text.strip()\n",
    "  population=columns[2].text.strip()\n",
    "  print(f\"{country}:{population}\")"
   ]
  },
  {
   "cell_type": "code",
   "execution_count": 14,
   "id": "6c692f66-3b3d-4172-9611-223ffc0fbed4",
   "metadata": {},
   "outputs": [],
   "source": [
    "from IPython.display import display,HTML"
   ]
  },
  {
   "cell_type": "code",
   "execution_count": 18,
   "id": "4edc4ac1-5f37-47bb-96f5-9dec351e123e",
   "metadata": {},
   "outputs": [
    {
     "data": {
      "text/html": [
       "<table>\n",
       "<tr>\n",
       "<th>Company</th>\n",
       "<th>Contact</th>\n",
       "<th>Country</th>\n",
       "</tr>\n",
       "<td>Alfreds Futterkiste</td>\n",
       "<td>Maria Anders</td>\n",
       "<td>Germany</td>\n",
       "</tr>\n",
       "<tr>\n",
       "<td>Centro comercial Moctezuma</td>\n",
       "<td>Francisco Chang</td>\n",
       "<td>Mexico</td>\n",
       "</tr>\n",
       "</table>\n"
      ],
      "text/plain": [
       "<IPython.core.display.HTML object>"
      ]
     },
     "metadata": {},
     "output_type": "display_data"
    }
   ],
   "source": [
    "display (HTML(\"\"\"<table>\n",
    "<tr>\n",
    "<th>Company</th>\n",
    "<th>Contact</th>\n",
    "<th>Country</th>\n",
    "</tr>\n",
    "<td>Alfreds Futterkiste</td>\n",
    "<td>Maria Anders</td>\n",
    "<td>Germany</td>\n",
    "</tr>\n",
    "<tr>\n",
    "<td>Centro comercial Moctezuma</td>\n",
    "<td>Francisco Chang</td>\n",
    "<td>Mexico</td>\n",
    "</tr>\n",
    "</table>\n",
    "\"\"\"))"
   ]
  },
  {
   "cell_type": "code",
   "execution_count": null,
   "id": "2067ddca-920a-40f0-9501-bc3ad4909cb7",
   "metadata": {},
   "outputs": [],
   "source": []
  }
 ],
 "metadata": {
  "kernelspec": {
   "display_name": "Python [conda env:base] *",
   "language": "python",
   "name": "conda-base-py"
  },
  "language_info": {
   "codemirror_mode": {
    "name": "ipython",
    "version": 3
   },
   "file_extension": ".py",
   "mimetype": "text/x-python",
   "name": "python",
   "nbconvert_exporter": "python",
   "pygments_lexer": "ipython3",
   "version": "3.12.7"
  }
 },
 "nbformat": 4,
 "nbformat_minor": 5
}
