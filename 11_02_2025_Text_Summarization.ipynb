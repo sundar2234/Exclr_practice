{
 "cells": [
  {
   "cell_type": "code",
   "execution_count": 1,
   "id": "48b88148-61a8-4c32-b57b-c793baa81862",
   "metadata": {},
   "outputs": [
    {
     "name": "stdout",
     "output_type": "stream",
     "text": [
      "Collecting pytextrank\n",
      "  Downloading pytextrank-3.3.0-py3-none-any.whl.metadata (12 kB)\n",
      "Requirement already satisfied: GitPython>=3.1 in c:\\users\\bknai\\anaconda3\\lib\\site-packages (from pytextrank) (3.1.43)\n",
      "Collecting graphviz>=0.13 (from pytextrank)\n",
      "  Downloading graphviz-0.20.3-py3-none-any.whl.metadata (12 kB)\n",
      "Collecting icecream>=2.1 (from pytextrank)\n",
      "  Downloading icecream-2.1.4-py3-none-any.whl.metadata (1.3 kB)\n",
      "Requirement already satisfied: networkx>=2.6 in c:\\users\\bknai\\anaconda3\\lib\\site-packages (from networkx[default]>=2.6->pytextrank) (3.3)\n",
      "Requirement already satisfied: pygments>=2.7.4 in c:\\users\\bknai\\anaconda3\\lib\\site-packages (from pytextrank) (2.15.1)\n",
      "Requirement already satisfied: scipy>=1.7 in c:\\users\\bknai\\anaconda3\\lib\\site-packages (from pytextrank) (1.13.1)\n",
      "Requirement already satisfied: spacy>=3.0 in c:\\users\\bknai\\anaconda3\\lib\\site-packages (from pytextrank) (3.8.3)\n",
      "Requirement already satisfied: gitdb<5,>=4.0.1 in c:\\users\\bknai\\anaconda3\\lib\\site-packages (from GitPython>=3.1->pytextrank) (4.0.7)\n",
      "Requirement already satisfied: colorama>=0.3.9 in c:\\users\\bknai\\anaconda3\\lib\\site-packages (from icecream>=2.1->pytextrank) (0.4.6)\n",
      "Collecting executing>=2.1.0 (from icecream>=2.1->pytextrank)\n",
      "  Downloading executing-2.2.0-py2.py3-none-any.whl.metadata (8.9 kB)\n",
      "Requirement already satisfied: asttokens>=2.0.1 in c:\\users\\bknai\\anaconda3\\lib\\site-packages (from icecream>=2.1->pytextrank) (2.0.5)\n",
      "Requirement already satisfied: numpy>=1.23 in c:\\users\\bknai\\anaconda3\\lib\\site-packages (from networkx[default]>=2.6->pytextrank) (1.26.4)\n",
      "Requirement already satisfied: matplotlib>=3.6 in c:\\users\\bknai\\anaconda3\\lib\\site-packages (from networkx[default]>=2.6->pytextrank) (3.9.2)\n",
      "Requirement already satisfied: pandas>=1.4 in c:\\users\\bknai\\anaconda3\\lib\\site-packages (from networkx[default]>=2.6->pytextrank) (2.2.2)\n",
      "Requirement already satisfied: spacy-legacy<3.1.0,>=3.0.11 in c:\\users\\bknai\\anaconda3\\lib\\site-packages (from spacy>=3.0->pytextrank) (3.0.12)\n",
      "Requirement already satisfied: spacy-loggers<2.0.0,>=1.0.0 in c:\\users\\bknai\\anaconda3\\lib\\site-packages (from spacy>=3.0->pytextrank) (1.0.5)\n",
      "Requirement already satisfied: murmurhash<1.1.0,>=0.28.0 in c:\\users\\bknai\\anaconda3\\lib\\site-packages (from spacy>=3.0->pytextrank) (1.0.11)\n",
      "Requirement already satisfied: cymem<2.1.0,>=2.0.2 in c:\\users\\bknai\\anaconda3\\lib\\site-packages (from spacy>=3.0->pytextrank) (2.0.10)\n",
      "Requirement already satisfied: preshed<3.1.0,>=3.0.2 in c:\\users\\bknai\\anaconda3\\lib\\site-packages (from spacy>=3.0->pytextrank) (3.0.9)\n",
      "Requirement already satisfied: thinc<8.4.0,>=8.3.0 in c:\\users\\bknai\\anaconda3\\lib\\site-packages (from spacy>=3.0->pytextrank) (8.3.3)\n",
      "Requirement already satisfied: wasabi<1.2.0,>=0.9.1 in c:\\users\\bknai\\anaconda3\\lib\\site-packages (from spacy>=3.0->pytextrank) (1.1.3)\n",
      "Requirement already satisfied: srsly<3.0.0,>=2.4.3 in c:\\users\\bknai\\anaconda3\\lib\\site-packages (from spacy>=3.0->pytextrank) (2.5.0)\n",
      "Requirement already satisfied: catalogue<2.1.0,>=2.0.6 in c:\\users\\bknai\\anaconda3\\lib\\site-packages (from spacy>=3.0->pytextrank) (2.0.10)\n",
      "Requirement already satisfied: weasel<0.5.0,>=0.1.0 in c:\\users\\bknai\\anaconda3\\lib\\site-packages (from spacy>=3.0->pytextrank) (0.4.1)\n",
      "Requirement already satisfied: typer<1.0.0,>=0.3.0 in c:\\users\\bknai\\anaconda3\\lib\\site-packages (from spacy>=3.0->pytextrank) (0.15.1)\n",
      "Requirement already satisfied: tqdm<5.0.0,>=4.38.0 in c:\\users\\bknai\\anaconda3\\lib\\site-packages (from spacy>=3.0->pytextrank) (4.66.5)\n",
      "Requirement already satisfied: requests<3.0.0,>=2.13.0 in c:\\users\\bknai\\anaconda3\\lib\\site-packages (from spacy>=3.0->pytextrank) (2.32.3)\n",
      "Requirement already satisfied: pydantic!=1.8,!=1.8.1,<3.0.0,>=1.7.4 in c:\\users\\bknai\\anaconda3\\lib\\site-packages (from spacy>=3.0->pytextrank) (2.8.2)\n",
      "Requirement already satisfied: jinja2 in c:\\users\\bknai\\anaconda3\\lib\\site-packages (from spacy>=3.0->pytextrank) (3.1.4)\n",
      "Requirement already satisfied: setuptools in c:\\users\\bknai\\anaconda3\\lib\\site-packages (from spacy>=3.0->pytextrank) (75.1.0)\n",
      "Requirement already satisfied: packaging>=20.0 in c:\\users\\bknai\\anaconda3\\lib\\site-packages (from spacy>=3.0->pytextrank) (24.1)\n",
      "Requirement already satisfied: langcodes<4.0.0,>=3.2.0 in c:\\users\\bknai\\anaconda3\\lib\\site-packages (from spacy>=3.0->pytextrank) (3.5.0)\n",
      "Requirement already satisfied: six in c:\\users\\bknai\\anaconda3\\lib\\site-packages (from asttokens>=2.0.1->icecream>=2.1->pytextrank) (1.16.0)\n",
      "Requirement already satisfied: smmap<5,>=3.0.1 in c:\\users\\bknai\\anaconda3\\lib\\site-packages (from gitdb<5,>=4.0.1->GitPython>=3.1->pytextrank) (4.0.0)\n",
      "Requirement already satisfied: language-data>=1.2 in c:\\users\\bknai\\anaconda3\\lib\\site-packages (from langcodes<4.0.0,>=3.2.0->spacy>=3.0->pytextrank) (1.3.0)\n",
      "Requirement already satisfied: contourpy>=1.0.1 in c:\\users\\bknai\\anaconda3\\lib\\site-packages (from matplotlib>=3.6->networkx[default]>=2.6->pytextrank) (1.2.0)\n",
      "Requirement already satisfied: cycler>=0.10 in c:\\users\\bknai\\anaconda3\\lib\\site-packages (from matplotlib>=3.6->networkx[default]>=2.6->pytextrank) (0.11.0)\n",
      "Requirement already satisfied: fonttools>=4.22.0 in c:\\users\\bknai\\anaconda3\\lib\\site-packages (from matplotlib>=3.6->networkx[default]>=2.6->pytextrank) (4.51.0)\n",
      "Requirement already satisfied: kiwisolver>=1.3.1 in c:\\users\\bknai\\anaconda3\\lib\\site-packages (from matplotlib>=3.6->networkx[default]>=2.6->pytextrank) (1.4.4)\n",
      "Requirement already satisfied: pillow>=8 in c:\\users\\bknai\\anaconda3\\lib\\site-packages (from matplotlib>=3.6->networkx[default]>=2.6->pytextrank) (10.4.0)\n",
      "Requirement already satisfied: pyparsing>=2.3.1 in c:\\users\\bknai\\anaconda3\\lib\\site-packages (from matplotlib>=3.6->networkx[default]>=2.6->pytextrank) (3.1.2)\n",
      "Requirement already satisfied: python-dateutil>=2.7 in c:\\users\\bknai\\anaconda3\\lib\\site-packages (from matplotlib>=3.6->networkx[default]>=2.6->pytextrank) (2.9.0.post0)\n",
      "Requirement already satisfied: pytz>=2020.1 in c:\\users\\bknai\\anaconda3\\lib\\site-packages (from pandas>=1.4->networkx[default]>=2.6->pytextrank) (2024.1)\n",
      "Requirement already satisfied: tzdata>=2022.7 in c:\\users\\bknai\\anaconda3\\lib\\site-packages (from pandas>=1.4->networkx[default]>=2.6->pytextrank) (2023.3)\n",
      "Requirement already satisfied: annotated-types>=0.4.0 in c:\\users\\bknai\\anaconda3\\lib\\site-packages (from pydantic!=1.8,!=1.8.1,<3.0.0,>=1.7.4->spacy>=3.0->pytextrank) (0.6.0)\n",
      "Requirement already satisfied: pydantic-core==2.20.1 in c:\\users\\bknai\\anaconda3\\lib\\site-packages (from pydantic!=1.8,!=1.8.1,<3.0.0,>=1.7.4->spacy>=3.0->pytextrank) (2.20.1)\n",
      "Requirement already satisfied: typing-extensions>=4.6.1 in c:\\users\\bknai\\anaconda3\\lib\\site-packages (from pydantic!=1.8,!=1.8.1,<3.0.0,>=1.7.4->spacy>=3.0->pytextrank) (4.11.0)\n",
      "Requirement already satisfied: charset-normalizer<4,>=2 in c:\\users\\bknai\\anaconda3\\lib\\site-packages (from requests<3.0.0,>=2.13.0->spacy>=3.0->pytextrank) (3.3.2)\n",
      "Requirement already satisfied: idna<4,>=2.5 in c:\\users\\bknai\\anaconda3\\lib\\site-packages (from requests<3.0.0,>=2.13.0->spacy>=3.0->pytextrank) (3.7)\n",
      "Requirement already satisfied: urllib3<3,>=1.21.1 in c:\\users\\bknai\\anaconda3\\lib\\site-packages (from requests<3.0.0,>=2.13.0->spacy>=3.0->pytextrank) (2.2.3)\n",
      "Requirement already satisfied: certifi>=2017.4.17 in c:\\users\\bknai\\anaconda3\\lib\\site-packages (from requests<3.0.0,>=2.13.0->spacy>=3.0->pytextrank) (2024.8.30)\n",
      "Requirement already satisfied: blis<1.2.0,>=1.1.0 in c:\\users\\bknai\\anaconda3\\lib\\site-packages (from thinc<8.4.0,>=8.3.0->spacy>=3.0->pytextrank) (1.1.0)\n",
      "Requirement already satisfied: confection<1.0.0,>=0.0.1 in c:\\users\\bknai\\anaconda3\\lib\\site-packages (from thinc<8.4.0,>=8.3.0->spacy>=3.0->pytextrank) (0.1.5)\n",
      "Requirement already satisfied: click>=8.0.0 in c:\\users\\bknai\\anaconda3\\lib\\site-packages (from typer<1.0.0,>=0.3.0->spacy>=3.0->pytextrank) (8.1.7)\n",
      "Requirement already satisfied: shellingham>=1.3.0 in c:\\users\\bknai\\anaconda3\\lib\\site-packages (from typer<1.0.0,>=0.3.0->spacy>=3.0->pytextrank) (1.5.4)\n",
      "Requirement already satisfied: rich>=10.11.0 in c:\\users\\bknai\\anaconda3\\lib\\site-packages (from typer<1.0.0,>=0.3.0->spacy>=3.0->pytextrank) (13.7.1)\n",
      "Requirement already satisfied: cloudpathlib<1.0.0,>=0.7.0 in c:\\users\\bknai\\anaconda3\\lib\\site-packages (from weasel<0.5.0,>=0.1.0->spacy>=3.0->pytextrank) (0.20.0)\n",
      "Requirement already satisfied: smart-open<8.0.0,>=5.2.1 in c:\\users\\bknai\\anaconda3\\lib\\site-packages (from weasel<0.5.0,>=0.1.0->spacy>=3.0->pytextrank) (5.2.1)\n",
      "Requirement already satisfied: MarkupSafe>=2.0 in c:\\users\\bknai\\anaconda3\\lib\\site-packages (from jinja2->spacy>=3.0->pytextrank) (2.1.3)\n",
      "Requirement already satisfied: marisa-trie>=1.1.0 in c:\\users\\bknai\\anaconda3\\lib\\site-packages (from language-data>=1.2->langcodes<4.0.0,>=3.2.0->spacy>=3.0->pytextrank) (1.2.1)\n",
      "Requirement already satisfied: markdown-it-py>=2.2.0 in c:\\users\\bknai\\anaconda3\\lib\\site-packages (from rich>=10.11.0->typer<1.0.0,>=0.3.0->spacy>=3.0->pytextrank) (2.2.0)\n",
      "Requirement already satisfied: mdurl~=0.1 in c:\\users\\bknai\\anaconda3\\lib\\site-packages (from markdown-it-py>=2.2.0->rich>=10.11.0->typer<1.0.0,>=0.3.0->spacy>=3.0->pytextrank) (0.1.0)\n",
      "Downloading pytextrank-3.3.0-py3-none-any.whl (26 kB)\n",
      "Downloading graphviz-0.20.3-py3-none-any.whl (47 kB)\n",
      "Downloading icecream-2.1.4-py3-none-any.whl (14 kB)\n",
      "Downloading executing-2.2.0-py2.py3-none-any.whl (26 kB)\n",
      "Installing collected packages: graphviz, executing, icecream, pytextrank\n",
      "  Attempting uninstall: executing\n",
      "    Found existing installation: executing 0.8.3\n",
      "    Uninstalling executing-0.8.3:\n",
      "      Successfully uninstalled executing-0.8.3\n",
      "Successfully installed executing-2.2.0 graphviz-0.20.3 icecream-2.1.4 pytextrank-3.3.0\n"
     ]
    }
   ],
   "source": [
    "!pip install pytextrank"
   ]
  },
  {
   "cell_type": "code",
   "execution_count": 9,
   "id": "1f0959d6-574b-4799-9d5d-0d9de3258667",
   "metadata": {},
   "outputs": [
    {
     "name": "stdout",
     "output_type": "stream",
     "text": [
      "C:\\Users\\bknai\\anaconda3\\Lib\\site-packages\n"
     ]
    }
   ],
   "source": [
    "import spacy\n",
    "import pytextrank"
   ]
  },
  {
   "cell_type": "code",
   "execution_count": 11,
   "id": "b92dc1a8-6e26-4346-aac6-e31775ee33b9",
   "metadata": {},
   "outputs": [],
   "source": [
    "document = \"\"\"Not only did it only confirm that the film would be unfunny and generic, \n",
    "but it also managed to give away the ENTIRE movie; \n",
    "and I'm not exaggerating every moment, every plot point, \n",
    "every joke is told in the trailer.\"\"\""
   ]
  },
  {
   "cell_type": "code",
   "execution_count": 13,
   "id": "03eeebeb-b2cc-4220-9a51-60352b161255",
   "metadata": {},
   "outputs": [],
   "source": [
    "en_nlp = spacy.load(\"en_core_web_sm\")\n",
    "en_nlp.add_pipe(\"textrank\")\n",
    "doc = en_nlp(document)"
   ]
  },
  {
   "cell_type": "code",
   "execution_count": 15,
   "id": "ab30e6b0-acab-4a8d-b551-9c97bfd94e12",
   "metadata": {},
   "outputs": [
    {
     "name": "stdout",
     "output_type": "stream",
     "text": [
      "4.003047943115234\n"
     ]
    }
   ],
   "source": [
    "tr = doc._.textrank\n",
    "print(tr.elapsed_time)"
   ]
  },
  {
   "cell_type": "code",
   "execution_count": 17,
   "id": "c95dee55-f23b-45a2-bae1-57717dd6a948",
   "metadata": {},
   "outputs": [
    {
     "name": "stdout",
     "output_type": "stream",
     "text": [
      "ENTIRE 0.13514348101679782 1\n",
      "the ENTIRE movie 0.09548608913294183 1\n",
      "every moment 0.06271382551472635 1\n",
      "every joke 0.05936552514177136 1\n",
      "the film 0.05423292745389326 1\n",
      "the trailer 0.04834919915077192 1\n",
      "I 0.0 1\n",
      "it 0.0 2\n"
     ]
    }
   ],
   "source": [
    "for combination in doc._.phrases:\n",
    "    print(combination.text,combination.rank,combination.count)"
   ]
  },
  {
   "cell_type": "code",
   "execution_count": 19,
   "id": "7770be07-1bee-4136-a673-3c121bab72fe",
   "metadata": {},
   "outputs": [],
   "source": [
    "from bs4 import BeautifulSoup\n",
    "from urllib.request import urlopen"
   ]
  },
  {
   "cell_type": "code",
   "execution_count": 21,
   "id": "c950774f-61fa-46d5-9e32-f3b5498cf178",
   "metadata": {},
   "outputs": [],
   "source": [
    "def get_only_text(url): \n",
    "    page = urlopen(url) \n",
    "    soup = BeautifulSoup(page) \n",
    "    text = '\\t'.join(map(lambda p: p.text, soup.find_all('p'))) \n",
    "    print (text) \n",
    "    return soup.title.text, text \n",
    " \n"
   ]
  },
  {
   "cell_type": "code",
   "execution_count": 23,
   "id": "52cf01f4-2e77-4df1-b528-1d3ce1a505cc",
   "metadata": {},
   "outputs": [
    {
     "name": "stdout",
     "output_type": "stream",
     "text": [
      "Natural language processing (NLP) is a subfield of computer science and especially artificial intelligence. It is primarily concerned with providing computers with the ability to process data encoded in natural language and is thus closely related to information retrieval, knowledge representation and computational linguistics, a subfield of linguistics. Typically data is collected in text corpora, using either rule-based, statistical or neural-based approaches in machine learning and deep learning.\n",
      "\tMajor tasks in natural language processing are speech recognition, text classification, natural-language understanding, and natural-language generation.\n",
      "\tNatural language processing has its roots in the 1950s.[1] Already in 1950, Alan Turing published an article titled \"Computing Machinery and Intelligence\" which proposed what is now called the Turing test as a criterion of intelligence, though at the time that was not articulated as a problem separate from artificial intelligence. The proposed test includes a task that involves the automated interpretation and generation of natural language.\n",
      "\tThe premise of symbolic NLP is well-summarized by John Searle's Chinese room experiment: Given a collection of rules (e.g., a Chinese phrasebook, with questions and matching answers), the computer emulates natural language understanding (or other NLP tasks) by applying those rules to the data it confronts.\n",
      "\tUp until the 1980s, most natural language processing systems were based on complex sets of hand-written rules.  Starting in the late 1980s, however, there was a revolution in natural language processing with the introduction of machine learning algorithms for language processing.  This was due to both the steady increase in computational power (see Moore's law) and the gradual lessening of the dominance of Chomskyan theories of linguistics (e.g. transformational grammar), whose theoretical underpinnings discouraged the sort of corpus linguistics that underlies the machine-learning approach to language processing.[8]\n",
      "\tSymbolic approach, i.e., the hand-coding of a set of rules for manipulating symbols, coupled with a dictionary lookup, was historically the first approach used both by AI in general and by NLP in particular:[18][19] such as by writing grammars or devising heuristic rules for stemming.\n",
      "\tMachine learning approaches, which include both statistical and neural networks, on the other hand, have many advantages over the symbolic approach: \n",
      "\tAlthough rule-based systems for manipulating symbols were still in use in 2020, they have become mostly obsolete with the advance of LLMs in 2023. \n",
      "\tBefore that they were commonly used:\n",
      "\tIn the late 1980s and mid-1990s, the statistical approach ended a period of AI winter, which was caused by the inefficiencies of the rule-based approaches.[20][21]\n",
      "\tThe earliest decision trees, producing systems of hard if–then rules, were still very similar to the old rule-based approaches.\n",
      "Only the introduction of hidden Markov models, applied to part-of-speech tagging, announced the end of the old rule-based approach.\n",
      "\tA major drawback of statistical methods is that they require elaborate feature engineering. Since 2015,[22] the statistical approach has been replaced by the neural networks approach, using semantic networks[23] and word embeddings to capture semantic properties of words.  \n",
      "\tIntermediate tasks (e.g., part-of-speech tagging and dependency parsing) are not needed anymore. \n",
      "\tNeural machine translation, based on then-newly invented sequence-to-sequence transformations, made obsolete the intermediate steps, such as word alignment, previously necessary for statistical machine translation.\n",
      "\tThe following is a list of some of the most commonly researched tasks in natural language processing. Some of these tasks have direct real-world applications, while others more commonly serve as subtasks that are used to aid in solving larger tasks.\n",
      "\tThough natural language processing tasks are closely intertwined, they can be subdivided into categories for convenience. A coarse division is given below.\n",
      "\tBased on long-standing trends in the field, it is possible to extrapolate future directions of NLP. As of 2020, three trends among the topics of the long-standing series of CoNLL Shared Tasks can be observed:[46]\n",
      "\tMost higher-level NLP applications involve aspects that emulate intelligent behaviour and apparent comprehension of natural language. More broadly speaking, the technical operationalization of increasingly advanced aspects of cognitive behaviour represents one of the developmental trajectories of NLP (see trends among CoNLL shared tasks above).\n",
      "\tCognition refers to \"the mental action or process of acquiring knowledge and understanding through thought, experience, and the senses.\"[47] Cognitive science is the interdisciplinary, scientific study of the mind and its processes.[48] Cognitive linguistics is an interdisciplinary branch of linguistics, combining knowledge and research from both psychology and linguistics.[49] Especially during the age of symbolic NLP, the area of computational linguistics maintained strong ties with cognitive studies.\n",
      "\tAs an example, George Lakoff offers a methodology to build natural language processing (NLP) algorithms through the perspective of cognitive science, along with the findings of cognitive linguistics,[50] with two defining aspects:\n",
      "\tTies with cognitive linguistics are part of the historical heritage of NLP, but they have been less frequently addressed since the statistical turn during the 1990s. Nevertheless, approaches to develop cognitive models towards technically operationalizable frameworks have been pursued in the context of various frameworks, e.g., of cognitive grammar,[53] functional grammar,[54] construction grammar,[55] computational psycholinguistics and cognitive neuroscience (e.g., ACT-R), however, with limited uptake in mainstream NLP (as measured by presence on major conferences[56] of the ACL). More recently, ideas of cognitive NLP have been revived as an approach to achieve explainability, e.g., under the notion of \"cognitive AI\".[57] Likewise, ideas of cognitive NLP are inherent to neural models multimodal NLP (although rarely made explicit)[58] and developments in artificial intelligence, specifically tools and technologies using large language model approaches[59] and new directions in artificial general intelligence based on the free energy principle[60] by British neuroscientist and theoretician at University College London Karl J. Friston.\n",
      "\n"
     ]
    }
   ],
   "source": [
    "url=\"https://en.wikipedia.org/wiki/Natural_language_processing\" \n",
    "text = get_only_text(url)"
   ]
  },
  {
   "cell_type": "code",
   "execution_count": 25,
   "id": "2a8988a8-8218-4b3a-af8b-934336028562",
   "metadata": {},
   "outputs": [
    {
     "data": {
      "text/plain": [
       "6587"
      ]
     },
     "execution_count": 25,
     "metadata": {},
     "output_type": "execute_result"
    }
   ],
   "source": [
    "len(''.join(text))"
   ]
  },
  {
   "cell_type": "code",
   "execution_count": 27,
   "id": "63feb3ef-3f47-42d0-ab0d-de600a957868",
   "metadata": {},
   "outputs": [
    {
     "data": {
      "text/plain": [
       "('Natural language processing - Wikipedia',\n",
       " 'Natural language processing (NLP) is a subfield of computer science and especially artificial intelligence. It is primarily concerned with providing computers with the ability to process data encoded in natural language and is thus closely related to information retrieval, knowledge representation and computational linguistics, a subfield of linguistics. Typically data is collected in text corpora, using either rule-based, statistical or neural-based approaches in machine learning and deep learning.\\n\\tMajor tasks in natural language processing are speech recognition, text classification, natural-language understanding, and natural-language generation.\\n\\tNatural language processing has its roots in the 1950s.[1] Already in 1950, Alan Turing published an article titled \"Computing Machinery and Intelligence\" which proposed what is now called the Turing test as a criterion of intelligence, though at the time that was not articulated as a problem separate from artificial intelligence. The proposed test includes a task that involves the automated interpretation and generation of natural language.\\n\\tThe premise of symbolic NLP is well-summarized by John Searle\\'s Chinese room experiment: Given a collection of rules (e.g., a Chinese phrasebook, with questions and matching answers), the computer emulates natural language understanding (or other NLP tasks) by applying those rules to the data it confronts.\\n\\tUp until the 1980s, most natural language processing systems were based on complex sets of hand-written rules.  Starting in the late 1980s, however, there was a revolution in natural language processing with the introduction of machine learning algorithms for language processing.  This was due to both the steady increase in computational power (see Moore\\'s law) and the gradual lessening of the dominance of Chomskyan theories of linguistics (e.g. transformational grammar), whose theoretical underpinnings discouraged the sort of corpus linguistics that underlies the machine-learning approach to language processing.[8]\\n\\tSymbolic approach, i.e., the hand-coding of a set of rules for manipulating symbols, coupled with a dictionary lookup, was historically the first approach used both by AI in general and by NLP in particular:[18][19] such as by writing grammars or devising heuristic rules for stemming.\\n\\tMachine learning approaches, which include both statistical and neural networks, on the other hand, have many advantages over the symbolic approach: \\n\\tAlthough rule-based systems for manipulating symbols were still in use in 2020, they have become mostly obsolete with the advance of LLMs in 2023. \\n\\tBefore that they were commonly used:\\n\\tIn the late 1980s and mid-1990s, the statistical approach ended a period of AI winter, which was caused by the inefficiencies of the rule-based approaches.[20][21]\\n\\tThe earliest decision trees, producing systems of hard if–then rules, were still very similar to the old rule-based approaches.\\nOnly the introduction of hidden Markov models, applied to part-of-speech tagging, announced the end of the old rule-based approach.\\n\\tA major drawback of statistical methods is that they require elaborate feature engineering. Since 2015,[22] the statistical approach has been replaced by the neural networks approach, using semantic networks[23] and word embeddings to capture semantic properties of words.  \\n\\tIntermediate tasks (e.g., part-of-speech tagging and dependency parsing) are not needed anymore. \\n\\tNeural machine translation, based on then-newly invented sequence-to-sequence transformations, made obsolete the intermediate steps, such as word alignment, previously necessary for statistical machine translation.\\n\\tThe following is a list of some of the most commonly researched tasks in natural language processing. Some of these tasks have direct real-world applications, while others more commonly serve as subtasks that are used to aid in solving larger tasks.\\n\\tThough natural language processing tasks are closely intertwined, they can be subdivided into categories for convenience. A coarse division is given below.\\n\\tBased on long-standing trends in the field, it is possible to extrapolate future directions of NLP. As of 2020, three trends among the topics of the long-standing series of CoNLL Shared Tasks can be observed:[46]\\n\\tMost higher-level NLP applications involve aspects that emulate intelligent behaviour and apparent comprehension of natural language. More broadly speaking, the technical operationalization of increasingly advanced aspects of cognitive behaviour represents one of the developmental trajectories of NLP (see trends among CoNLL shared tasks above).\\n\\tCognition refers to \"the mental action or process of acquiring knowledge and understanding through thought, experience, and the senses.\"[47] Cognitive science is the interdisciplinary, scientific study of the mind and its processes.[48] Cognitive linguistics is an interdisciplinary branch of linguistics, combining knowledge and research from both psychology and linguistics.[49] Especially during the age of symbolic NLP, the area of computational linguistics maintained strong ties with cognitive studies.\\n\\tAs an example, George Lakoff offers a methodology to build natural language processing (NLP) algorithms through the perspective of cognitive science, along with the findings of cognitive linguistics,[50] with two defining aspects:\\n\\tTies with cognitive linguistics are part of the historical heritage of NLP, but they have been less frequently addressed since the statistical turn during the 1990s. Nevertheless, approaches to develop cognitive models towards technically operationalizable frameworks have been pursued in the context of various frameworks, e.g., of cognitive grammar,[53] functional grammar,[54] construction grammar,[55] computational psycholinguistics and cognitive neuroscience (e.g., ACT-R), however, with limited uptake in mainstream NLP (as measured by presence on major conferences[56] of the ACL). More recently, ideas of cognitive NLP have been revived as an approach to achieve explainability, e.g., under the notion of \"cognitive AI\".[57] Likewise, ideas of cognitive NLP are inherent to neural models multimodal NLP (although rarely made explicit)[58] and developments in artificial intelligence, specifically tools and technologies using large language model approaches[59] and new directions in artificial general intelligence based on the free energy principle[60] by British neuroscientist and theoretician at University College London Karl J. Friston.\\n')"
      ]
     },
     "execution_count": 27,
     "metadata": {},
     "output_type": "execute_result"
    }
   ],
   "source": [
    "text[:1000]"
   ]
  },
  {
   "cell_type": "code",
   "execution_count": 45,
   "id": "09a3809b-b488-4f7c-93ce-088bfd2995f2",
   "metadata": {},
   "outputs": [
    {
     "name": "stdout",
     "output_type": "stream",
     "text": [
      "Requirement already satisfied: sumy in c:\\users\\bknai\\anaconda3\\lib\\site-packages (0.11.0)\n",
      "Requirement already satisfied: docopt<0.7,>=0.6.1 in c:\\users\\bknai\\anaconda3\\lib\\site-packages (from sumy) (0.6.2)\n",
      "Requirement already satisfied: breadability>=0.1.20 in c:\\users\\bknai\\anaconda3\\lib\\site-packages (from sumy) (0.1.20)\n",
      "Requirement already satisfied: requests>=2.7.0 in c:\\users\\bknai\\anaconda3\\lib\\site-packages (from sumy) (2.32.3)\n",
      "Requirement already satisfied: pycountry>=18.2.23 in c:\\users\\bknai\\anaconda3\\lib\\site-packages (from sumy) (24.6.1)\n",
      "Requirement already satisfied: nltk>=3.0.2 in c:\\users\\bknai\\anaconda3\\lib\\site-packages (from sumy) (3.9.1)\n",
      "Requirement already satisfied: chardet in c:\\users\\bknai\\anaconda3\\lib\\site-packages (from breadability>=0.1.20->sumy) (4.0.0)\n",
      "Requirement already satisfied: lxml>=2.0 in c:\\users\\bknai\\anaconda3\\lib\\site-packages (from breadability>=0.1.20->sumy) (5.2.1)\n",
      "Requirement already satisfied: click in c:\\users\\bknai\\anaconda3\\lib\\site-packages (from nltk>=3.0.2->sumy) (8.1.7)\n",
      "Requirement already satisfied: joblib in c:\\users\\bknai\\anaconda3\\lib\\site-packages (from nltk>=3.0.2->sumy) (1.4.2)\n",
      "Requirement already satisfied: regex>=2021.8.3 in c:\\users\\bknai\\anaconda3\\lib\\site-packages (from nltk>=3.0.2->sumy) (2024.9.11)\n",
      "Requirement already satisfied: tqdm in c:\\users\\bknai\\anaconda3\\lib\\site-packages (from nltk>=3.0.2->sumy) (4.66.5)\n",
      "Requirement already satisfied: charset-normalizer<4,>=2 in c:\\users\\bknai\\anaconda3\\lib\\site-packages (from requests>=2.7.0->sumy) (3.3.2)\n",
      "Requirement already satisfied: idna<4,>=2.5 in c:\\users\\bknai\\anaconda3\\lib\\site-packages (from requests>=2.7.0->sumy) (3.7)\n",
      "Requirement already satisfied: urllib3<3,>=1.21.1 in c:\\users\\bknai\\anaconda3\\lib\\site-packages (from requests>=2.7.0->sumy) (2.2.3)\n",
      "Requirement already satisfied: certifi>=2017.4.17 in c:\\users\\bknai\\anaconda3\\lib\\site-packages (from requests>=2.7.0->sumy) (2024.8.30)\n",
      "Requirement already satisfied: colorama in c:\\users\\bknai\\anaconda3\\lib\\site-packages (from click->nltk>=3.0.2->sumy) (0.4.6)\n"
     ]
    }
   ],
   "source": [
    "!pip install sumy"
   ]
  },
  {
   "cell_type": "code",
   "execution_count": 29,
   "id": "ebf82184-a96b-4b51-b037-bc7af8159958",
   "metadata": {},
   "outputs": [],
   "source": [
    "from sumy.parsers.html import HtmlParser \n",
    "from sumy.parsers.plaintext import PlaintextParser \n",
    "from sumy.nlp.tokenizers import Tokenizer \n",
    "from sumy.summarizers.lsa import LsaSummarizer \n",
    "from sumy.nlp.stemmers import Stemmer \n",
    "from sumy.utils import get_stop_words \n",
    "from sumy.summarizers.luhn import LuhnSummarizer"
   ]
  },
  {
   "cell_type": "code",
   "execution_count": 49,
   "id": "e86de1be-c40e-4394-949c-da4116b9ec39",
   "metadata": {},
   "outputs": [
    {
     "name": "stdout",
     "output_type": "stream",
     "text": [
      "Requirement already satisfied: lxml[html_clean] in c:\\users\\bknai\\anaconda3\\lib\\site-packages (5.2.1)\n",
      "Collecting lxml_html_clean (from lxml[html_clean])\n",
      "  Downloading lxml_html_clean-0.4.1-py3-none-any.whl.metadata (2.4 kB)\n",
      "Downloading lxml_html_clean-0.4.1-py3-none-any.whl (14 kB)\n",
      "Installing collected packages: lxml_html_clean\n",
      "Successfully installed lxml_html_clean-0.4.1\n",
      "Note: you may need to restart the kernel to use updated packages.\n"
     ]
    }
   ],
   "source": [
    "pip install lxml[html_clean]\n"
   ]
  },
  {
   "cell_type": "code",
   "execution_count": 51,
   "id": "700e3985-ecdb-4521-89a0-49a133739fde",
   "metadata": {},
   "outputs": [
    {
     "name": "stdout",
     "output_type": "stream",
     "text": [
      "Requirement already satisfied: lxml_html_clean in c:\\users\\bknai\\anaconda3\\lib\\site-packages (0.4.1)\n",
      "Requirement already satisfied: lxml in c:\\users\\bknai\\anaconda3\\lib\\site-packages (from lxml_html_clean) (5.2.1)\n",
      "Note: you may need to restart the kernel to use updated packages.\n"
     ]
    }
   ],
   "source": [
    "pip install lxml_html_clean\n"
   ]
  },
  {
   "cell_type": "code",
   "execution_count": 53,
   "id": "194c7f6f-89be-4e36-9292-05b68a4ed51c",
   "metadata": {},
   "outputs": [
    {
     "name": "stdout",
     "output_type": "stream",
     "text": [
      "Requirement already satisfied: lxml in c:\\users\\bknai\\anaconda3\\lib\\site-packages (5.2.1)\n",
      "Collecting lxml\n",
      "  Downloading lxml-5.3.1-cp312-cp312-win_amd64.whl.metadata (3.8 kB)\n",
      "Requirement already satisfied: sumy in c:\\users\\bknai\\anaconda3\\lib\\site-packages (0.11.0)\n",
      "Requirement already satisfied: docopt<0.7,>=0.6.1 in c:\\users\\bknai\\anaconda3\\lib\\site-packages (from sumy) (0.6.2)\n",
      "Requirement already satisfied: breadability>=0.1.20 in c:\\users\\bknai\\anaconda3\\lib\\site-packages (from sumy) (0.1.20)\n",
      "Requirement already satisfied: requests>=2.7.0 in c:\\users\\bknai\\anaconda3\\lib\\site-packages (from sumy) (2.32.3)\n",
      "Requirement already satisfied: pycountry>=18.2.23 in c:\\users\\bknai\\anaconda3\\lib\\site-packages (from sumy) (24.6.1)\n",
      "Requirement already satisfied: nltk>=3.0.2 in c:\\users\\bknai\\anaconda3\\lib\\site-packages (from sumy) (3.9.1)\n",
      "Requirement already satisfied: chardet in c:\\users\\bknai\\anaconda3\\lib\\site-packages (from breadability>=0.1.20->sumy) (4.0.0)\n",
      "Requirement already satisfied: click in c:\\users\\bknai\\anaconda3\\lib\\site-packages (from nltk>=3.0.2->sumy) (8.1.7)\n",
      "Requirement already satisfied: joblib in c:\\users\\bknai\\anaconda3\\lib\\site-packages (from nltk>=3.0.2->sumy) (1.4.2)\n",
      "Requirement already satisfied: regex>=2021.8.3 in c:\\users\\bknai\\anaconda3\\lib\\site-packages (from nltk>=3.0.2->sumy) (2024.9.11)\n",
      "Requirement already satisfied: tqdm in c:\\users\\bknai\\anaconda3\\lib\\site-packages (from nltk>=3.0.2->sumy) (4.66.5)\n",
      "Requirement already satisfied: charset-normalizer<4,>=2 in c:\\users\\bknai\\anaconda3\\lib\\site-packages (from requests>=2.7.0->sumy) (3.3.2)\n",
      "Requirement already satisfied: idna<4,>=2.5 in c:\\users\\bknai\\anaconda3\\lib\\site-packages (from requests>=2.7.0->sumy) (3.7)\n",
      "Requirement already satisfied: urllib3<3,>=1.21.1 in c:\\users\\bknai\\anaconda3\\lib\\site-packages (from requests>=2.7.0->sumy) (2.2.3)\n",
      "Requirement already satisfied: certifi>=2017.4.17 in c:\\users\\bknai\\anaconda3\\lib\\site-packages (from requests>=2.7.0->sumy) (2024.8.30)\n",
      "Requirement already satisfied: colorama in c:\\users\\bknai\\anaconda3\\lib\\site-packages (from click->nltk>=3.0.2->sumy) (0.4.6)\n",
      "Downloading lxml-5.3.1-cp312-cp312-win_amd64.whl (3.8 MB)\n",
      "   ---------------------------------------- 0.0/3.8 MB ? eta -:--:--\n",
      "   ------------- -------------------------- 1.3/3.8 MB 7.4 MB/s eta 0:00:01\n",
      "   ------------------------ --------------- 2.4/3.8 MB 6.4 MB/s eta 0:00:01\n",
      "   ------------------------------ --------- 2.9/3.8 MB 5.6 MB/s eta 0:00:01\n",
      "   ---------------------------------------- 3.8/3.8 MB 4.6 MB/s eta 0:00:00\n",
      "Installing collected packages: lxml\n",
      "  Attempting uninstall: lxml\n",
      "    Found existing installation: lxml 5.2.1\n",
      "    Uninstalling lxml-5.2.1:\n",
      "      Successfully uninstalled lxml-5.2.1\n",
      "Successfully installed lxml-5.3.1\n",
      "Note: you may need to restart the kernel to use updated packages.\n"
     ]
    }
   ],
   "source": [
    "pip install --upgrade lxml sumy\n"
   ]
  },
  {
   "cell_type": "code",
   "execution_count": 31,
   "id": "c615990f-3153-432f-81b5-df2b2f2931a5",
   "metadata": {},
   "outputs": [
    {
     "ename": "NameError",
     "evalue": "name 'LANGUAGE' is not defined",
     "output_type": "error",
     "traceback": [
      "\u001b[1;31m---------------------------------------------------------------------------\u001b[0m",
      "\u001b[1;31mNameError\u001b[0m                                 Traceback (most recent call last)",
      "Cell \u001b[1;32mIn[31], line 2\u001b[0m\n\u001b[0;32m      1\u001b[0m \u001b[38;5;66;03m#url = \"https://en.wikipedia.org/wiki/Computer_vision\"\u001b[39;00m\n\u001b[1;32m----> 2\u001b[0m parser \u001b[38;5;241m=\u001b[39m HtmlParser\u001b[38;5;241m.\u001b[39mfrom_url(url, Tokenizer(\u001b[43mLANGUAGE\u001b[49m)) \n\u001b[0;32m      3\u001b[0m \u001b[38;5;66;03m#summarizer = LsaSummarizer() \u001b[39;00m\n\u001b[0;32m      4\u001b[0m summarizer \u001b[38;5;241m=\u001b[39m LsaSummarizer (Stemmer(LANGUAGE)) \n",
      "\u001b[1;31mNameError\u001b[0m: name 'LANGUAGE' is not defined"
     ]
    }
   ],
   "source": [
    "#url = \"https://en.wikipedia.org/wiki/Computer_vision\"\n",
    "parser = HtmlParser.from_url(url, Tokenizer(LANGUAGE)) \n",
    "#summarizer = LsaSummarizer() \n",
    "summarizer = LsaSummarizer (Stemmer(LANGUAGE)) \n",
    "summarizer.stop_words = get_stop_words(LANGUAGE) \n",
    "for sentence in summarizer(parser.document, 5): \n",
    "    print(sentence)"
   ]
  },
  {
   "cell_type": "code",
   "execution_count": 33,
   "id": "f90a8ad4-4682-405a-8728-8729decd917e",
   "metadata": {},
   "outputs": [
    {
     "name": "stdout",
     "output_type": "stream",
     "text": [
      "Computer vision tasks include methods for acquiring, processing, analyzing, and understanding digital images, and extraction of high-dimensional data from the real world in order to produce numerical or symbolic information, e.g. in the form of decisions.\n",
      "Applications range from tasks such as industrial machine vision systems which, say, inspect bottles speeding by on a production line, to research into artificial intelligence and computers or robots that can comprehend the world around them.\n",
      "Computer vision tasks include methods for acquiring, processing, analyzing and understanding digital images, and extraction of high-dimensional data from the real world in order to produce numerical or symbolic information, e.g., in the forms of decisions.\n",
      "Convolutional neural networks (CNNs) represent deep learning architectures that are currently used in a wide range of applications, including computer vision, speech recognition, identification of albuminous sequences in bioinformatics, production control, time series analysis in finance, and many others.^ Wäldchen, Jana; Mäder, Patrick (2017-01-07).\n",
      "Pearson.^ a b Russakovsky, Olga; Deng, Jia; Su, Hao; Krause, Jonathan; Satheesh, Sanjeev; Ma, Sean; Huang, Zhiheng; Karpathy, Andrej; Khosla, Aditya; Bernstein, Michael; Berg, Alexander C. (December 2015).\n"
     ]
    }
   ],
   "source": [
    "from sumy.parsers.html import HtmlParser\n",
    "from sumy.nlp.tokenizers import Tokenizer\n",
    "from sumy.summarizers.lsa import LsaSummarizer\n",
    "from sumy.nlp.stemmers import Stemmer\n",
    "from sumy.utils import get_stop_words\n",
    "\n",
    "\n",
    "LANGUAGE = \"english\"\n",
    "\n",
    "\n",
    "url = \"https://en.wikipedia.org/wiki/Computer_vision\"\n",
    "\n",
    "\n",
    "parser = HtmlParser.from_url(url, Tokenizer(LANGUAGE))\n",
    "\n",
    "\n",
    "summarizer = LsaSummarizer(Stemmer(LANGUAGE))\n",
    "\n",
    "\n",
    "summarizer.stop_words = get_stop_words(LANGUAGE)\n",
    "\n",
    "\n",
    "for sentence in summarizer(parser.document, 5):\n",
    "    print(sentence)\n"
   ]
  },
  {
   "cell_type": "code",
   "execution_count": 37,
   "id": "19ec34c3-6b9e-464a-bcb2-5347120f4426",
   "metadata": {},
   "outputs": [],
   "source": [
    "text=\"\"\"A vaccine for the coronavirus will likely be ready by early 2021 but rolling it out safely across India's \n",
    "1.3 billion people will be the country's biggest challenge in fighting its surging epidemic, a leading vaccine scientist told\n",
    "Bloomberg. \n",
    "India, which is host to some of the front-runner vaccine clinical trials, \n",
    "currently has no local infrastructure in place to go beyond immunizing babies and pregnant women, \n",
    "said Gagandeep Kang, professor of microbiology at the Vellore-based Christian Medical \n",
    "College and a member of the WHO's Global Advisory Committee on Vaccine Safety. \n",
    "The timing of the vaccine is a contentious subject around the world. In the U.S., \n",
    "President Donald Trump has contradicted a top administration health expert by saying a vaccine would be available by October.\n",
    "In India, Prime Minister Narendra Modi's government had promised an indigenous vaccine as early as mid-August, a claim \n",
    "the government and its apex medical research body has since walked back.\"\"\" \n"
   ]
  },
  {
   "cell_type": "code",
   "execution_count": 41,
   "id": "0fd501df-6228-4f3d-aeab-e1f26ad4c421",
   "metadata": {},
   "outputs": [],
   "source": [
    "# Load Packages \n",
    "from sumy.parsers.plaintext import PlaintextParser \n",
    "from sumy.nlp.tokenizers import Tokenizer \n",
    "# For Strings \n",
    "parser = PlaintextParser.from_string(text, Tokenizer(\"english\"))"
   ]
  },
  {
   "cell_type": "code",
   "execution_count": 43,
   "id": "3bc902ff-648f-455f-aace-812e795d6e12",
   "metadata": {},
   "outputs": [
    {
     "name": "stdout",
     "output_type": "stream",
     "text": [
      "A vaccine for the coronavirus will likely be ready by early 2021 but rolling it out safely across India's 1.3 billion people will be the country's biggest challenge in fighting its surging epidemic, a leading vaccine scientist told Bloomberg.\n",
      "A vaccine for the coronavirus will likely be ready by early 2021 but rolling it out safely across India's 1.3 billion people will be the country's biggest challenge in fighting its surging epidemic, a leading vaccine scientist told Bloomberg.India, which is host to some of the front-runner vaccine clinical trials, currently has no local infrastructure in place to go beyond immunizing babies and pregnant women, said Gagandeep Kang, professor of microbiology at the Vellore-based Christian Medical College and a member of the WHO's Global Advisory Committee on Vaccine Safety.\n",
      "A vaccine for the coronavirus will likely be ready by early 2021 but rolling it out safely across India's 1.3 billion people will be the country's biggest challenge in fighting its surging epidemic, a leading vaccine scientist told Bloomberg.India, which is host to some of the front-runner vaccine clinical trials, currently has no local infrastructure in place to go beyond immunizing babies and pregnant women, said Gagandeep Kang, professor of microbiology at the Vellore-based Christian Medical College and a member of the WHO's Global Advisory Committee on Vaccine Safety.The timing of the vaccine is a contentious subject around the world.\n",
      "A vaccine for the coronavirus will likely be ready by early 2021 but rolling it out safely across India's 1.3 billion people will be the country's biggest challenge in fighting its surging epidemic, a leading vaccine scientist told Bloomberg.India, which is host to some of the front-runner vaccine clinical trials, currently has no local infrastructure in place to go beyond immunizing babies and pregnant women, said Gagandeep Kang, professor of microbiology at the Vellore-based Christian Medical College and a member of the WHO's Global Advisory Committee on Vaccine Safety.The timing of the vaccine is a contentious subject around the world.In the U.S., President Donald Trump has contradicted a top administration health expert by saying a vaccine would be available by October.\n",
      "A vaccine for the coronavirus will likely be ready by early 2021 but rolling it out safely across India's 1.3 billion people will be the country's biggest challenge in fighting its surging epidemic, a leading vaccine scientist told Bloomberg.India, which is host to some of the front-runner vaccine clinical trials, currently has no local infrastructure in place to go beyond immunizing babies and pregnant women, said Gagandeep Kang, professor of microbiology at the Vellore-based Christian Medical College and a member of the WHO's Global Advisory Committee on Vaccine Safety.The timing of the vaccine is a contentious subject around the world.In the U.S., President Donald Trump has contradicted a top administration health expert by saying a vaccine would be available by October.In India, Prime Minister Narendra Modi's government had promised an indigenous vaccine as early as mid-August, a claim the government and its apex medical research body has since walked back.\n"
     ]
    }
   ],
   "source": [
    "parser = PlaintextParser.from_string(text, Tokenizer(\"english\")) \n",
    "from sumy.summarizers.lex_rank import LexRankSummarizer \n",
    "from sumy.utils import get_stop_words \n",
    "summarizer_lex = LexRankSummarizer() \n",
    "summarizer_lex.stop_words = get_stop_words(\"english\") \n",
    "summary= summarizer_lex(parser.document, 5) \n",
    "lex_summary=\"\" \n",
    "for sentence in summary: \n",
    "    lex_summary+=str(sentence) \n",
    "    print(lex_summary)"
   ]
  },
  {
   "cell_type": "code",
   "execution_count": null,
   "id": "dd126a2f-8fc5-423c-83bc-8b9353d5f99a",
   "metadata": {},
   "outputs": [],
   "source": []
  }
 ],
 "metadata": {
  "kernelspec": {
   "display_name": "Python 3 (ipykernel)",
   "language": "python",
   "name": "python3"
  },
  "language_info": {
   "codemirror_mode": {
    "name": "ipython",
    "version": 3
   },
   "file_extension": ".py",
   "mimetype": "text/x-python",
   "name": "python",
   "nbconvert_exporter": "python",
   "pygments_lexer": "ipython3",
   "version": "3.12.7"
  }
 },
 "nbformat": 4,
 "nbformat_minor": 5
}
