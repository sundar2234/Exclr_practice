{
 "cells": [
  {
   "cell_type": "code",
   "execution_count": 3,
   "id": "815ea93f-70b7-47fc-90e8-c797174e190a",
   "metadata": {},
   "outputs": [
    {
     "data": {
      "text/html": [
       "<div>\n",
       "<style scoped>\n",
       "    .dataframe tbody tr th:only-of-type {\n",
       "        vertical-align: middle;\n",
       "    }\n",
       "\n",
       "    .dataframe tbody tr th {\n",
       "        vertical-align: top;\n",
       "    }\n",
       "\n",
       "    .dataframe thead th {\n",
       "        text-align: right;\n",
       "    }\n",
       "</style>\n",
       "<table border=\"1\" class=\"dataframe\">\n",
       "  <thead>\n",
       "    <tr style=\"text-align: right;\">\n",
       "      <th></th>\n",
       "      <th>id</th>\n",
       "      <th>label</th>\n",
       "      <th>tweet</th>\n",
       "    </tr>\n",
       "  </thead>\n",
       "  <tbody>\n",
       "    <tr>\n",
       "      <th>0</th>\n",
       "      <td>1</td>\n",
       "      <td>0</td>\n",
       "      <td>@user when a father is dysfunctional and is s...</td>\n",
       "    </tr>\n",
       "    <tr>\n",
       "      <th>1</th>\n",
       "      <td>2</td>\n",
       "      <td>0</td>\n",
       "      <td>@user @user thanks for #lyft credit i can't us...</td>\n",
       "    </tr>\n",
       "    <tr>\n",
       "      <th>2</th>\n",
       "      <td>3</td>\n",
       "      <td>0</td>\n",
       "      <td>bihday your majesty</td>\n",
       "    </tr>\n",
       "    <tr>\n",
       "      <th>3</th>\n",
       "      <td>4</td>\n",
       "      <td>0</td>\n",
       "      <td>#model   i love u take with u all the time in ...</td>\n",
       "    </tr>\n",
       "    <tr>\n",
       "      <th>4</th>\n",
       "      <td>5</td>\n",
       "      <td>0</td>\n",
       "      <td>factsguide: society now    #motivation</td>\n",
       "    </tr>\n",
       "  </tbody>\n",
       "</table>\n",
       "</div>"
      ],
      "text/plain": [
       "   id  label                                              tweet\n",
       "0   1      0   @user when a father is dysfunctional and is s...\n",
       "1   2      0  @user @user thanks for #lyft credit i can't us...\n",
       "2   3      0                                bihday your majesty\n",
       "3   4      0  #model   i love u take with u all the time in ...\n",
       "4   5      0             factsguide: society now    #motivation"
      ]
     },
     "execution_count": 3,
     "metadata": {},
     "output_type": "execute_result"
    }
   ],
   "source": [
    "import pandas as pd\n",
    "dataset = pd.read_csv('hate_speech.csv')\n",
    "dataset.head()"
   ]
  },
  {
   "cell_type": "code",
   "execution_count": 7,
   "id": "12aab28a-9347-4f7e-bc71-25f9ec87e8b9",
   "metadata": {},
   "outputs": [
    {
     "data": {
      "text/plain": [
       "(5242, 3)"
      ]
     },
     "execution_count": 7,
     "metadata": {},
     "output_type": "execute_result"
    }
   ],
   "source": [
    "dataset.shape"
   ]
  },
  {
   "cell_type": "code",
   "execution_count": 9,
   "id": "d49cc287-cf1a-425d-a26b-c2de50b56f0a",
   "metadata": {},
   "outputs": [
    {
     "data": {
      "text/plain": [
       "<bound method IndexOpsMixin.value_counts of 0       0\n",
       "1       0\n",
       "2       0\n",
       "3       0\n",
       "4       0\n",
       "       ..\n",
       "5237    1\n",
       "5238    1\n",
       "5239    1\n",
       "5240    1\n",
       "5241    1\n",
       "Name: label, Length: 5242, dtype: int64>"
      ]
     },
     "execution_count": 9,
     "metadata": {},
     "output_type": "execute_result"
    }
   ],
   "source": [
    "dataset.label.value_counts"
   ]
  },
  {
   "cell_type": "code",
   "execution_count": 11,
   "id": "659818be-f70d-4451-87ac-e80c308d7289",
   "metadata": {},
   "outputs": [
    {
     "name": "stdout",
     "output_type": "stream",
     "text": [
      "1 -  â #ireland consumer price index (mom) climbed from previous 0.2% to 0.5% in may   #blog #silver #gold #forex\n",
      "2 - we are so selfish. #orlando #standwithorlando #pulseshooting #orlandoshooting #biggerproblems #selfish #heabreaking   #values #love #\n",
      "3 - i get to see my daddy today!!   #80days #gettingfed\n",
      "4 - ouch...junior is angryð#got7 #junior #yugyoem   #omg \n",
      "5 - i am thankful for having a paner. #thankful #positive     \n"
     ]
    }
   ],
   "source": [
    "for index, tweet in enumerate(dataset[\"tweet\"][10:15]):\n",
    "    print(index+1,\"-\",tweet)"
   ]
  },
  {
   "cell_type": "code",
   "execution_count": 23,
   "id": "725b95ad-0961-4115-8348-8ccaea64e095",
   "metadata": {},
   "outputs": [],
   "source": [
    "import re \n",
    " \n",
    "def clean_text(text): \n",
    "\n",
    "    text = re.sub(r'[^a-zA-Z\\']', '', text) \n",
    "    \n",
    "    text = re.sub(r'[^\\x00-\\x7F]+', '', text) \n",
    "     \n",
    "    text = text.lower() \n",
    "    return text"
   ]
  },
  {
   "cell_type": "code",
   "execution_count": 25,
   "id": "72e260da-3f78-4c77-861b-73c540a41888",
   "metadata": {},
   "outputs": [],
   "source": [
    "dataset['clean_text'] = dataset.tweet.apply(lambda x:clean_text(x))"
   ]
  },
  {
   "cell_type": "code",
   "execution_count": 27,
   "id": "5589e7ed-2d41-4764-96fc-3c798bb4d155",
   "metadata": {},
   "outputs": [],
   "source": [
    "from nltk.corpus import stopwords \n",
    "\n",
    "len(stopwords.words('english')) \n",
    "stop = stopwords.words('english') \n",
    " \n"
   ]
  },
  {
   "cell_type": "code",
   "execution_count": 33,
   "id": "17c8a2d5-7872-42e5-942d-27e5f4e39e09",
   "metadata": {},
   "outputs": [],
   "source": [
    "def gen_freq(text): \n",
    "    word_list = [] \n",
    "    for tw_words in text.split(): \n",
    "        word_list.extend(tw_words)  \n",
    "        word_freq = pd.Series(word_list).value_counts() \n",
    "        word_freq = word_freq.drop(stop, errors='ignore') \n",
    "        return word_freq"
   ]
  },
  {
   "cell_type": "code",
   "execution_count": 39,
   "id": "d18ef1a9-d667-49ed-9080-db024bbbe103",
   "metadata": {},
   "outputs": [],
   "source": [
    "def any_neg(words): \n",
    "    for word in words: \n",
    "        if word in ['n', 'no', 'non', 'not'] or re.search(r\"\\wn't\", word): \n",
    "            return 1 \n",
    "        else: \n",
    "            return 0"
   ]
  },
  {
   "cell_type": "code",
   "execution_count": 47,
   "id": "7f3cdb05-d27a-47fd-9694-8a4f1e6e3c34",
   "metadata": {},
   "outputs": [],
   "source": [
    "def any_rare(words, rare_100): \n",
    "    for word in words: \n",
    "        if word in rare_100: \n",
    "            return 1 \n",
    "    else: \n",
    "        return 0 \n",
    "#Check whether prompt words are present \n"
   ]
  },
  {
   "cell_type": "code",
   "execution_count": 49,
   "id": "682fb7af-5c85-4f32-a524-6821bee2f51a",
   "metadata": {},
   "outputs": [],
   "source": [
    "def is_question(words): \n",
    "    for word in words: \n",
    "        if word in ['when', 'what', 'how', 'why', 'who', 'where']: \n",
    "            return 1 \n",
    "        else: \n",
    "            return 0"
   ]
  },
  {
   "cell_type": "code",
   "execution_count": 53,
   "id": "6eb58e80-d28b-4973-8b5e-ed183e2329eb",
   "metadata": {},
   "outputs": [],
   "source": [
    "word_freq = gen_freq(dataset.clean_text.str) \n",
    "\n",
    "rare_100 = word_freq[-100:] \n",
    "\n",
    "dataset['word_count'] = dataset.clean_text.str.split().apply(lambda x: len(x)) \n",
    "\n",
    "dataset['any_neg'] = dataset.clean_text.str.split().apply(lambda x: any_neg(x)) \n",
    "\n",
    "dataset['is_question'] = dataset.clean_text.str.split().apply(lambda x: is_question(x)) \n",
    "\n",
    "dataset['any_rare'] = dataset.clean_text.str.split().apply(lambda x: any_rare(x, rare_100)) \n",
    "\n",
    "dataset['char_count'] = dataset.clean_text.apply(lambda x: len(x))"
   ]
  },
  {
   "cell_type": "code",
   "execution_count": null,
   "id": "4be71264-1fae-4649-bf60-008175c8d5e1",
   "metadata": {},
   "outputs": [],
   "source": []
  }
 ],
 "metadata": {
  "kernelspec": {
   "display_name": "Python 3 (ipykernel)",
   "language": "python",
   "name": "python3"
  },
  "language_info": {
   "codemirror_mode": {
    "name": "ipython",
    "version": 3
   },
   "file_extension": ".py",
   "mimetype": "text/x-python",
   "name": "python",
   "nbconvert_exporter": "python",
   "pygments_lexer": "ipython3",
   "version": "3.12.7"
  }
 },
 "nbformat": 4,
 "nbformat_minor": 5
}
