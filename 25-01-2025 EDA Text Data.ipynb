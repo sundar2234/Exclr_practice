{
 "cells": [
  {
   "cell_type": "code",
   "execution_count": 7,
   "id": "d9e8c29a-efa1-4e90-b253-655a6fe76f0b",
   "metadata": {},
   "outputs": [],
   "source": [
    "import  pandas as pd\n",
    "import matplotlib.pyplot as plt\n",
    "import numpy as np\n"
   ]
  },
  {
   "cell_type": "code",
   "execution_count": 9,
   "id": "facea442-caa1-4ba6-b7dc-aaea7bc93d87",
   "metadata": {},
   "outputs": [
    {
     "data": {
      "text/html": [
       "<div>\n",
       "<style scoped>\n",
       "    .dataframe tbody tr th:only-of-type {\n",
       "        vertical-align: middle;\n",
       "    }\n",
       "\n",
       "    .dataframe tbody tr th {\n",
       "        vertical-align: top;\n",
       "    }\n",
       "\n",
       "    .dataframe thead th {\n",
       "        text-align: right;\n",
       "    }\n",
       "</style>\n",
       "<table border=\"1\" class=\"dataframe\">\n",
       "  <thead>\n",
       "    <tr style=\"text-align: right;\">\n",
       "      <th></th>\n",
       "      <th>Review</th>\n",
       "      <th>Rating</th>\n",
       "    </tr>\n",
       "  </thead>\n",
       "  <tbody>\n",
       "    <tr>\n",
       "      <th>0</th>\n",
       "      <td>nice hotel expensive parking got good deal sta...</td>\n",
       "      <td>4</td>\n",
       "    </tr>\n",
       "    <tr>\n",
       "      <th>1</th>\n",
       "      <td>ok nothing special charge diamond member hilto...</td>\n",
       "      <td>2</td>\n",
       "    </tr>\n",
       "    <tr>\n",
       "      <th>2</th>\n",
       "      <td>nice rooms not 4* experience hotel monaco seat...</td>\n",
       "      <td>3</td>\n",
       "    </tr>\n",
       "    <tr>\n",
       "      <th>3</th>\n",
       "      <td>unique, great stay, wonderful time hotel monac...</td>\n",
       "      <td>5</td>\n",
       "    </tr>\n",
       "    <tr>\n",
       "      <th>4</th>\n",
       "      <td>great stay great stay, went seahawk game aweso...</td>\n",
       "      <td>5</td>\n",
       "    </tr>\n",
       "  </tbody>\n",
       "</table>\n",
       "</div>"
      ],
      "text/plain": [
       "                                              Review  Rating\n",
       "0  nice hotel expensive parking got good deal sta...       4\n",
       "1  ok nothing special charge diamond member hilto...       2\n",
       "2  nice rooms not 4* experience hotel monaco seat...       3\n",
       "3  unique, great stay, wonderful time hotel monac...       5\n",
       "4  great stay great stay, went seahawk game aweso...       5"
      ]
     },
     "execution_count": 9,
     "metadata": {},
     "output_type": "execute_result"
    }
   ],
   "source": [
    "df = pd.read_csv(\"tripadvisor_hotel_reviews.csv\")\n",
    "df.head()"
   ]
  },
  {
   "cell_type": "code",
   "execution_count": 11,
   "id": "ff5c9606-445e-4bae-9a06-0e4b06fa16a6",
   "metadata": {},
   "outputs": [
    {
     "data": {
      "text/plain": [
       "Rating\n",
       "5    9054\n",
       "4    6039\n",
       "3    2184\n",
       "2    1793\n",
       "1    1421\n",
       "Name: count, dtype: int64"
      ]
     },
     "execution_count": 11,
     "metadata": {},
     "output_type": "execute_result"
    }
   ],
   "source": [
    "df[\"Rating\"].value_counts()"
   ]
  },
  {
   "cell_type": "code",
   "execution_count": 13,
   "id": "7b43b46f-6ef0-4278-9228-1cb8cd76e0b8",
   "metadata": {},
   "outputs": [],
   "source": [
    "def ratings(rating):\n",
    "    if rating>3 and rating<=5:\n",
    "        return \"Positive\"\n",
    "    if rating>0 and rating<=3:\n",
    "        return \"Negative\"\n",
    "\n"
   ]
  },
  {
   "cell_type": "code",
   "execution_count": 15,
   "id": "001d5d99-edb8-4274-b511-d6a3cfdbe29e",
   "metadata": {},
   "outputs": [],
   "source": [
    "df['Rating'] = df['Rating'].apply(ratings)"
   ]
  },
  {
   "cell_type": "code",
   "execution_count": 17,
   "id": "44c43cbe-608b-4a5b-9a04-bba07eebfd90",
   "metadata": {},
   "outputs": [
    {
     "data": {
      "image/png": "[encoded data removed]",
      "text/plain": [
       "<Figure size 640x480 with 1 Axes>"
      ]
     },
     "metadata": {},
     "output_type": "display_data"
    }
   ],
   "source": [
    "import matplotlib.pyplot as plt\n",
    "\n",
    "ratings_count = df[\"Rating\"].value_counts()\n",
    "labels = df[\"Rating\"].unique().tolist()\n",
    "\n",
    "plt.pie(ratings_count, labels=ratings_count.index, autopct='%1.1f%%')\n",
    "plt.title(\"Ratings Distribution\")\n",
    "plt.show()\n"
   ]
  },
  {
   "cell_type": "code",
   "execution_count": 19,
   "id": "9ba5b458-d052-4158-8d3a-09ab24ebb7a8",
   "metadata": {},
   "outputs": [
    {
     "name": "stdout",
     "output_type": "stream",
     "text": [
      "Length of sample review:593\n"
     ]
    }
   ],
   "source": [
    "length = len(df['Review'][0])\n",
    "print(f'Length of sample review:{length}')"
   ]
  },
  {
   "cell_type": "code",
   "execution_count": 21,
   "id": "a2355b04-1f5a-4ae8-895c-f9c18d5390f3",
   "metadata": {},
   "outputs": [
    {
     "data": {
      "text/html": [
       "<div>\n",
       "<style scoped>\n",
       "    .dataframe tbody tr th:only-of-type {\n",
       "        vertical-align: middle;\n",
       "    }\n",
       "\n",
       "    .dataframe tbody tr th {\n",
       "        vertical-align: top;\n",
       "    }\n",
       "\n",
       "    .dataframe thead th {\n",
       "        text-align: right;\n",
       "    }\n",
       "</style>\n",
       "<table border=\"1\" class=\"dataframe\">\n",
       "  <thead>\n",
       "    <tr style=\"text-align: right;\">\n",
       "      <th></th>\n",
       "      <th>Review</th>\n",
       "      <th>Rating</th>\n",
       "      <th>Length</th>\n",
       "    </tr>\n",
       "  </thead>\n",
       "  <tbody>\n",
       "    <tr>\n",
       "      <th>0</th>\n",
       "      <td>nice hotel expensive parking got good deal sta...</td>\n",
       "      <td>Positive</td>\n",
       "      <td>593</td>\n",
       "    </tr>\n",
       "    <tr>\n",
       "      <th>1</th>\n",
       "      <td>ok nothing special charge diamond member hilto...</td>\n",
       "      <td>Negative</td>\n",
       "      <td>1689</td>\n",
       "    </tr>\n",
       "    <tr>\n",
       "      <th>2</th>\n",
       "      <td>nice rooms not 4* experience hotel monaco seat...</td>\n",
       "      <td>Negative</td>\n",
       "      <td>1427</td>\n",
       "    </tr>\n",
       "    <tr>\n",
       "      <th>3</th>\n",
       "      <td>unique, great stay, wonderful time hotel monac...</td>\n",
       "      <td>Positive</td>\n",
       "      <td>600</td>\n",
       "    </tr>\n",
       "    <tr>\n",
       "      <th>4</th>\n",
       "      <td>great stay great stay, went seahawk game aweso...</td>\n",
       "      <td>Positive</td>\n",
       "      <td>1281</td>\n",
       "    </tr>\n",
       "  </tbody>\n",
       "</table>\n",
       "</div>"
      ],
      "text/plain": [
       "                                              Review    Rating  Length\n",
       "0  nice hotel expensive parking got good deal sta...  Positive     593\n",
       "1  ok nothing special charge diamond member hilto...  Negative    1689\n",
       "2  nice rooms not 4* experience hotel monaco seat...  Negative    1427\n",
       "3  unique, great stay, wonderful time hotel monac...  Positive     600\n",
       "4  great stay great stay, went seahawk game aweso...  Positive    1281"
      ]
     },
     "execution_count": 21,
     "metadata": {},
     "output_type": "execute_result"
    }
   ],
   "source": [
    "df['Length'] = df[\"Review\"].str.len()\n",
    "df.head()"
   ]
  },
  {
   "cell_type": "code",
   "execution_count": 23,
   "id": "1d3f0225-eeb7-4593-82ae-3555aae2e05f",
   "metadata": {},
   "outputs": [
    {
     "name": "stdout",
     "output_type": "stream",
     "text": [
      "87\n"
     ]
    }
   ],
   "source": [
    "word_count = df[\"Review\"][0].split()\n",
    "print(f\"{len(word_count)}\")"
   ]
  },
  {
   "cell_type": "code",
   "execution_count": 25,
   "id": "ea0a9f11-e65c-4251-8062-d0aff28c59ad",
   "metadata": {},
   "outputs": [
    {
     "data": {
      "text/html": [
       "<div>\n",
       "<style scoped>\n",
       "    .dataframe tbody tr th:only-of-type {\n",
       "        vertical-align: middle;\n",
       "    }\n",
       "\n",
       "    .dataframe tbody tr th {\n",
       "        vertical-align: top;\n",
       "    }\n",
       "\n",
       "    .dataframe thead th {\n",
       "        text-align: right;\n",
       "    }\n",
       "</style>\n",
       "<table border=\"1\" class=\"dataframe\">\n",
       "  <thead>\n",
       "    <tr style=\"text-align: right;\">\n",
       "      <th></th>\n",
       "      <th>Review</th>\n",
       "      <th>Rating</th>\n",
       "      <th>Length</th>\n",
       "      <th>mean_word_length</th>\n",
       "    </tr>\n",
       "  </thead>\n",
       "  <tbody>\n",
       "    <tr>\n",
       "      <th>0</th>\n",
       "      <td>nice hotel expensive parking got good deal sta...</td>\n",
       "      <td>Positive</td>\n",
       "      <td>593</td>\n",
       "      <td>5.804598</td>\n",
       "    </tr>\n",
       "    <tr>\n",
       "      <th>1</th>\n",
       "      <td>ok nothing special charge diamond member hilto...</td>\n",
       "      <td>Negative</td>\n",
       "      <td>1689</td>\n",
       "      <td>5.752000</td>\n",
       "    </tr>\n",
       "    <tr>\n",
       "      <th>2</th>\n",
       "      <td>nice rooms not 4* experience hotel monaco seat...</td>\n",
       "      <td>Negative</td>\n",
       "      <td>1427</td>\n",
       "      <td>5.571429</td>\n",
       "    </tr>\n",
       "    <tr>\n",
       "      <th>3</th>\n",
       "      <td>unique, great stay, wonderful time hotel monac...</td>\n",
       "      <td>Positive</td>\n",
       "      <td>600</td>\n",
       "      <td>5.730337</td>\n",
       "    </tr>\n",
       "    <tr>\n",
       "      <th>4</th>\n",
       "      <td>great stay great stay, went seahawk game aweso...</td>\n",
       "      <td>Positive</td>\n",
       "      <td>1281</td>\n",
       "      <td>5.701571</td>\n",
       "    </tr>\n",
       "  </tbody>\n",
       "</table>\n",
       "</div>"
      ],
      "text/plain": [
       "                                              Review    Rating  Length  \\\n",
       "0  nice hotel expensive parking got good deal sta...  Positive     593   \n",
       "1  ok nothing special charge diamond member hilto...  Negative    1689   \n",
       "2  nice rooms not 4* experience hotel monaco seat...  Negative    1427   \n",
       "3  unique, great stay, wonderful time hotel monac...  Positive     600   \n",
       "4  great stay great stay, went seahawk game aweso...  Positive    1281   \n",
       "\n",
       "   mean_word_length  \n",
       "0          5.804598  \n",
       "1          5.752000  \n",
       "2          5.571429  \n",
       "3          5.730337  \n",
       "4          5.701571  "
      ]
     },
     "execution_count": 25,
     "metadata": {},
     "output_type": "execute_result"
    }
   ],
   "source": [
    "df['mean_word_length'] = df['Review'].map(lambda rev: np.mean([len(word) for word in rev.split()]))\n",
    "\n",
    "df.head()"
   ]
  },
  {
   "cell_type": "code",
   "execution_count": 27,
   "id": "d0a53547-ce79-49b5-a977-95f8489161d9",
   "metadata": {},
   "outputs": [
    {
     "data": {
      "text/plain": [
       "591.0"
      ]
     },
     "execution_count": 27,
     "metadata": {},
     "output_type": "execute_result"
    }
   ],
   "source": [
    "from nltk import tokenize\n",
    "np.mean([len(sent) for sent in tokenize.sent_tokenize(df['Review'][0])])"
   ]
  },
  {
   "cell_type": "code",
   "execution_count": 29,
   "id": "f242bfc1-0e2b-44d5-b801-cca15907d4cf",
   "metadata": {},
   "outputs": [
    {
     "data": {
      "text/html": [
       "<div>\n",
       "<style scoped>\n",
       "    .dataframe tbody tr th:only-of-type {\n",
       "        vertical-align: middle;\n",
       "    }\n",
       "\n",
       "    .dataframe tbody tr th {\n",
       "        vertical-align: top;\n",
       "    }\n",
       "\n",
       "    .dataframe thead th {\n",
       "        text-align: right;\n",
       "    }\n",
       "</style>\n",
       "<table border=\"1\" class=\"dataframe\">\n",
       "  <thead>\n",
       "    <tr style=\"text-align: right;\">\n",
       "      <th></th>\n",
       "      <th>Review</th>\n",
       "      <th>Rating</th>\n",
       "      <th>Length</th>\n",
       "      <th>mean_word_length</th>\n",
       "      <th>mean_sent_length</th>\n",
       "    </tr>\n",
       "  </thead>\n",
       "  <tbody>\n",
       "    <tr>\n",
       "      <th>0</th>\n",
       "      <td>nice hotel expensive parking got good deal sta...</td>\n",
       "      <td>Positive</td>\n",
       "      <td>593</td>\n",
       "      <td>5.804598</td>\n",
       "      <td>591.0</td>\n",
       "    </tr>\n",
       "    <tr>\n",
       "      <th>1</th>\n",
       "      <td>ok nothing special charge diamond member hilto...</td>\n",
       "      <td>Negative</td>\n",
       "      <td>1689</td>\n",
       "      <td>5.752000</td>\n",
       "      <td>1687.0</td>\n",
       "    </tr>\n",
       "    <tr>\n",
       "      <th>2</th>\n",
       "      <td>nice rooms not 4* experience hotel monaco seat...</td>\n",
       "      <td>Negative</td>\n",
       "      <td>1427</td>\n",
       "      <td>5.571429</td>\n",
       "      <td>712.0</td>\n",
       "    </tr>\n",
       "    <tr>\n",
       "      <th>3</th>\n",
       "      <td>unique, great stay, wonderful time hotel monac...</td>\n",
       "      <td>Positive</td>\n",
       "      <td>600</td>\n",
       "      <td>5.730337</td>\n",
       "      <td>598.0</td>\n",
       "    </tr>\n",
       "    <tr>\n",
       "      <th>4</th>\n",
       "      <td>great stay great stay, went seahawk game aweso...</td>\n",
       "      <td>Positive</td>\n",
       "      <td>1281</td>\n",
       "      <td>5.701571</td>\n",
       "      <td>1279.0</td>\n",
       "    </tr>\n",
       "  </tbody>\n",
       "</table>\n",
       "</div>"
      ],
      "text/plain": [
       "                                              Review    Rating  Length  \\\n",
       "0  nice hotel expensive parking got good deal sta...  Positive     593   \n",
       "1  ok nothing special charge diamond member hilto...  Negative    1689   \n",
       "2  nice rooms not 4* experience hotel monaco seat...  Negative    1427   \n",
       "3  unique, great stay, wonderful time hotel monac...  Positive     600   \n",
       "4  great stay great stay, went seahawk game aweso...  Positive    1281   \n",
       "\n",
       "   mean_word_length  mean_sent_length  \n",
       "0          5.804598             591.0  \n",
       "1          5.752000            1687.0  \n",
       "2          5.571429             712.0  \n",
       "3          5.730337             598.0  \n",
       "4          5.701571            1279.0  "
      ]
     },
     "execution_count": 29,
     "metadata": {},
     "output_type": "execute_result"
    }
   ],
   "source": [
    "df['mean_sent_length'] = df[\"Review\"].map(lambda rev: np.mean([len(sent)\n",
    "                                                              for sent in tokenize.sent_tokenize(rev)]))\n",
    "\n",
    "df.head()"
   ]
  },
  {
   "cell_type": "markdown",
   "id": "2590a4cc-30ed-445d-82f3-8b5bf55de94a",
   "metadata": {},
   "source": [
    "term frequencies analysis"
   ]
  },
  {
   "cell_type": "code",
   "execution_count": 32,
   "id": "a24e111e-2fbd-4a95-bc61-5d0d5dedddb0",
   "metadata": {},
   "outputs": [
    {
     "data": {
      "text/html": [
       "<div>\n",
       "<style scoped>\n",
       "    .dataframe tbody tr th:only-of-type {\n",
       "        vertical-align: middle;\n",
       "    }\n",
       "\n",
       "    .dataframe tbody tr th {\n",
       "        vertical-align: top;\n",
       "    }\n",
       "\n",
       "    .dataframe thead th {\n",
       "        text-align: right;\n",
       "    }\n",
       "</style>\n",
       "<table border=\"1\" class=\"dataframe\">\n",
       "  <thead>\n",
       "    <tr style=\"text-align: right;\">\n",
       "      <th></th>\n",
       "      <th>Review</th>\n",
       "      <th>Rating</th>\n",
       "    </tr>\n",
       "  </thead>\n",
       "  <tbody>\n",
       "    <tr>\n",
       "      <th>0</th>\n",
       "      <td>nice hotel expensive parking got good deal sta...</td>\n",
       "      <td>Positive</td>\n",
       "    </tr>\n",
       "    <tr>\n",
       "      <th>1</th>\n",
       "      <td>ok nothing special charge diamond member hilto...</td>\n",
       "      <td>Negative</td>\n",
       "    </tr>\n",
       "    <tr>\n",
       "      <th>2</th>\n",
       "      <td>nice rooms not 4* experience hotel monaco seat...</td>\n",
       "      <td>Negative</td>\n",
       "    </tr>\n",
       "    <tr>\n",
       "      <th>3</th>\n",
       "      <td>unique, great stay, wonderful time hotel monac...</td>\n",
       "      <td>Positive</td>\n",
       "    </tr>\n",
       "    <tr>\n",
       "      <th>4</th>\n",
       "      <td>great stay great stay, went seahawk game aweso...</td>\n",
       "      <td>Positive</td>\n",
       "    </tr>\n",
       "  </tbody>\n",
       "</table>\n",
       "</div>"
      ],
      "text/plain": [
       "                                              Review    Rating\n",
       "0  nice hotel expensive parking got good deal sta...  Positive\n",
       "1  ok nothing special charge diamond member hilto...  Negative\n",
       "2  nice rooms not 4* experience hotel monaco seat...  Negative\n",
       "3  unique, great stay, wonderful time hotel monac...  Positive\n",
       "4  great stay great stay, went seahawk game aweso...  Positive"
      ]
     },
     "execution_count": 32,
     "metadata": {},
     "output_type": "execute_result"
    }
   ],
   "source": [
    "features = df.columns.tolist()[2:]\n",
    "df=df.drop(features,axis=1)\n",
    "df.head()"
   ]
  },
  {
   "cell_type": "code",
   "execution_count": 34,
   "id": "a0fd0c49-0ff4-4ebf-94eb-5c0910d2405d",
   "metadata": {},
   "outputs": [
    {
     "name": "stdout",
     "output_type": "stream",
     "text": [
      "<class 'pandas.core.frame.DataFrame'>\n",
      "RangeIndex: 20491 entries, 0 to 20490\n",
      "Data columns (total 2 columns):\n",
      " #   Column  Non-Null Count  Dtype \n",
      "---  ------  --------------  ----- \n",
      " 0   Review  20491 non-null  object\n",
      " 1   Rating  20491 non-null  object\n",
      "dtypes: object(2)\n",
      "memory usage: 320.3+ KB\n"
     ]
    }
   ],
   "source": [
    "df.info()"
   ]
  },
  {
   "cell_type": "code",
   "execution_count": 40,
   "id": "69d2dc0a-5cf6-4a2f-b71b-ac72d589e083",
   "metadata": {},
   "outputs": [
    {
     "name": "stderr",
     "output_type": "stream",
     "text": [
      "<>:9: SyntaxWarning: invalid escape sequence '\\s'\n",
      "<>:9: SyntaxWarning: invalid escape sequence '\\s'\n",
      "C:\\Users\\bknai\\AppData\\Local\\Temp\\ipykernel_6816\\426450844.py:9: SyntaxWarning: invalid escape sequence '\\s'\n",
      "  review = re.sub('[^a-zA-Z0-9\\s]', '', review)\n"
     ]
    },
    {
     "data": {
      "text/html": [
       "<div>\n",
       "<style scoped>\n",
       "    .dataframe tbody tr th:only-of-type {\n",
       "        vertical-align: middle;\n",
       "    }\n",
       "\n",
       "    .dataframe tbody tr th {\n",
       "        vertical-align: top;\n",
       "    }\n",
       "\n",
       "    .dataframe thead th {\n",
       "        text-align: right;\n",
       "    }\n",
       "</style>\n",
       "<table border=\"1\" class=\"dataframe\">\n",
       "  <thead>\n",
       "    <tr style=\"text-align: right;\">\n",
       "      <th></th>\n",
       "      <th>Review</th>\n",
       "      <th>Rating</th>\n",
       "    </tr>\n",
       "  </thead>\n",
       "  <tbody>\n",
       "    <tr>\n",
       "      <th>0</th>\n",
       "      <td>nice hotel expensive parking got good deal sta...</td>\n",
       "      <td>Positive</td>\n",
       "    </tr>\n",
       "    <tr>\n",
       "      <th>1</th>\n",
       "      <td>ok nothing special charge diamond member hilto...</td>\n",
       "      <td>Negative</td>\n",
       "    </tr>\n",
       "    <tr>\n",
       "      <th>2</th>\n",
       "      <td>nice rooms 4 experience hotel monaco seattle g...</td>\n",
       "      <td>Negative</td>\n",
       "    </tr>\n",
       "    <tr>\n",
       "      <th>3</th>\n",
       "      <td>unique great stay wonderful time hotel monaco ...</td>\n",
       "      <td>Positive</td>\n",
       "    </tr>\n",
       "    <tr>\n",
       "      <th>4</th>\n",
       "      <td>great stay great stay went seahawk game awesom...</td>\n",
       "      <td>Positive</td>\n",
       "    </tr>\n",
       "  </tbody>\n",
       "</table>\n",
       "</div>"
      ],
      "text/plain": [
       "                                              Review    Rating\n",
       "0  nice hotel expensive parking got good deal sta...  Positive\n",
       "1  ok nothing special charge diamond member hilto...  Negative\n",
       "2  nice rooms 4 experience hotel monaco seattle g...  Negative\n",
       "3  unique great stay wonderful time hotel monaco ...  Positive\n",
       "4  great stay great stay went seahawk game awesom...  Positive"
      ]
     },
     "execution_count": 40,
     "metadata": {},
     "output_type": "execute_result"
    }
   ],
   "source": [
    "import re\n",
    "from nltk.corpus import stopwords\n",
    "\n",
    "def clean(review): \n",
    "    review = review.lower()\n",
    "    review = re.sub('[^a-zA-Z0-9\\s]', '', review)\n",
    "    stop_words = set(stopwords.words('english'))\n",
    "    review = \" \".join([word for word in review.split() if word not in stop_words])\n",
    "    return review\n",
    "df['Review'] = df['Review'].apply(clean)\n",
    "df.head()\n"
   ]
  },
  {
   "cell_type": "code",
   "execution_count": 42,
   "id": "cab8e1ef-aa55-4481-8b28-34bce8e6ff12",
   "metadata": {},
   "outputs": [],
   "source": [
    "def corpus(text):\n",
    "    text_list = text.split()\n",
    "    return text_list"
   ]
  },
  {
   "cell_type": "code",
   "execution_count": 44,
   "id": "e594d10f-327e-4de1-b2c7-0b12091d9049",
   "metadata": {},
   "outputs": [
    {
     "data": {
      "text/html": [
       "<div>\n",
       "<style scoped>\n",
       "    .dataframe tbody tr th:only-of-type {\n",
       "        vertical-align: middle;\n",
       "    }\n",
       "\n",
       "    .dataframe tbody tr th {\n",
       "        vertical-align: top;\n",
       "    }\n",
       "\n",
       "    .dataframe thead th {\n",
       "        text-align: right;\n",
       "    }\n",
       "</style>\n",
       "<table border=\"1\" class=\"dataframe\">\n",
       "  <thead>\n",
       "    <tr style=\"text-align: right;\">\n",
       "      <th></th>\n",
       "      <th>Review</th>\n",
       "      <th>Rating</th>\n",
       "      <th>Review_lists</th>\n",
       "    </tr>\n",
       "  </thead>\n",
       "  <tbody>\n",
       "    <tr>\n",
       "      <th>0</th>\n",
       "      <td>nice hotel expensive parking got good deal sta...</td>\n",
       "      <td>Positive</td>\n",
       "      <td>[nice, hotel, expensive, parking, got, good, d...</td>\n",
       "    </tr>\n",
       "    <tr>\n",
       "      <th>1</th>\n",
       "      <td>ok nothing special charge diamond member hilto...</td>\n",
       "      <td>Negative</td>\n",
       "      <td>[ok, nothing, special, charge, diamond, member...</td>\n",
       "    </tr>\n",
       "    <tr>\n",
       "      <th>2</th>\n",
       "      <td>nice rooms 4 experience hotel monaco seattle g...</td>\n",
       "      <td>Negative</td>\n",
       "      <td>[nice, rooms, 4, experience, hotel, monaco, se...</td>\n",
       "    </tr>\n",
       "    <tr>\n",
       "      <th>3</th>\n",
       "      <td>unique great stay wonderful time hotel monaco ...</td>\n",
       "      <td>Positive</td>\n",
       "      <td>[unique, great, stay, wonderful, time, hotel, ...</td>\n",
       "    </tr>\n",
       "    <tr>\n",
       "      <th>4</th>\n",
       "      <td>great stay great stay went seahawk game awesom...</td>\n",
       "      <td>Positive</td>\n",
       "      <td>[great, stay, great, stay, went, seahawk, game...</td>\n",
       "    </tr>\n",
       "  </tbody>\n",
       "</table>\n",
       "</div>"
      ],
      "text/plain": [
       "                                              Review    Rating  \\\n",
       "0  nice hotel expensive parking got good deal sta...  Positive   \n",
       "1  ok nothing special charge diamond member hilto...  Negative   \n",
       "2  nice rooms 4 experience hotel monaco seattle g...  Negative   \n",
       "3  unique great stay wonderful time hotel monaco ...  Positive   \n",
       "4  great stay great stay went seahawk game awesom...  Positive   \n",
       "\n",
       "                                        Review_lists  \n",
       "0  [nice, hotel, expensive, parking, got, good, d...  \n",
       "1  [ok, nothing, special, charge, diamond, member...  \n",
       "2  [nice, rooms, 4, experience, hotel, monaco, se...  \n",
       "3  [unique, great, stay, wonderful, time, hotel, ...  \n",
       "4  [great, stay, great, stay, went, seahawk, game...  "
      ]
     },
     "execution_count": 44,
     "metadata": {},
     "output_type": "execute_result"
    }
   ],
   "source": [
    "df[\"Review_lists\"] = df['Review'].apply(corpus)\n",
    "df.head()"
   ]
  },
  {
   "cell_type": "code",
   "execution_count": 48,
   "id": "f73385c1-1e24-4a00-8580-9c28f0d78e67",
   "metadata": {},
   "outputs": [
    {
     "name": "stderr",
     "output_type": "stream",
     "text": [
      "100%|\u001b[32m███████████████████████████████████████████████████████████████████████████████████████████████████████\u001b[0m| 20491/20491 [00:00<00:00, 113790.16it/s]\u001b[0m\n"
     ]
    },
    {
     "data": {
      "text/plain": [
       "2060723"
      ]
     },
     "execution_count": 48,
     "metadata": {},
     "output_type": "execute_result"
    }
   ],
   "source": [
    "from tqdm import trange\n",
    "corpus=[]\n",
    "for i in trange(df.shape[0],ncols=150,nrows=10,colour='green',smoothing=0.8):\n",
    "    corpus+=df[\"Review_lists\"] [i]\n",
    "len(corpus)"
   ]
  },
  {
   "cell_type": "code",
   "execution_count": 52,
   "id": "c0506af8-5b97-40f1-902d-ca8ec3d8f9e8",
   "metadata": {},
   "outputs": [
    {
     "data": {
      "text/plain": [
       "[('hotel', 48888),\n",
       " ('room', 34323),\n",
       " ('great', 21090),\n",
       " ('nt', 18989),\n",
       " ('good', 16976),\n",
       " ('staff', 16206),\n",
       " ('stay', 15155),\n",
       " ('nice', 12402),\n",
       " ('rooms', 12022),\n",
       " ('location', 11034)]"
      ]
     },
     "execution_count": 52,
     "metadata": {},
     "output_type": "execute_result"
    }
   ],
   "source": [
    "from collections import Counter\n",
    "mostCommon = Counter(corpus).most_common(10)\n",
    "mostCommon"
   ]
  },
  {
   "cell_type": "code",
   "execution_count": 59,
   "id": "f0300d73-b2f2-4696-8132-349bcf590920",
   "metadata": {},
   "outputs": [],
   "source": [
    "words=[]\n",
    "freq=[]\n",
    "for word, count in mostCommon:\n",
    "    words.append(word)\n",
    "    freq.append(count)"
   ]
  },
  {
   "cell_type": "code",
   "execution_count": 63,
   "id": "c73e5180-8218-4fe1-973b-6d92a434e33e",
   "metadata": {},
   "outputs": [
    {
     "data": {
      "image/png": "[encoded data removed]",
      "text/plain": [
       "<Figure size 640x480 with 1 Axes>"
      ]
     },
     "metadata": {},
     "output_type": "display_data"
    }
   ],
   "source": [
    "import seaborn as sns\n",
    "sns.barplot(x=freq,y=words)\n",
    "plt.title(\"Top\")\n",
    "plt.show()"
   ]
  },
  {
   "cell_type": "code",
   "execution_count": 1,
   "id": "1aa1617f-5f21-495d-8b60-c71b8855c58a",
   "metadata": {},
   "outputs": [],
   "source": [
    "from sklearn.feature_extraction.text import CountVectorizer\n",
    "cv = CountVectorizer(ngram_range =(2,2))"
   ]
  },
  {
   "cell_type": "code",
   "execution_count": null,
   "id": "d5844d44-4ec3-4c52-a358-89c7f4c1620d",
   "metadata": {},
   "outputs": [],
   "source": []
  }
 ],
 "metadata": {
  "kernelspec": {
   "display_name": "Python 3 (ipykernel)",
   "language": "python",
   "name": "python3"
  },
  "language_info": {
   "codemirror_mode": {
    "name": "ipython",
    "version": 3
   },
   "file_extension": ".py",
   "mimetype": "text/x-python",
   "name": "python",
   "nbconvert_exporter": "python",
   "pygments_lexer": "ipython3",
   "version": "3.12.7"
  }
 },
 "nbformat": 4,
 "nbformat_minor": 5
}
