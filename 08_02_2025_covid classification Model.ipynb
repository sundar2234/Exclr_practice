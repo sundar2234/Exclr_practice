{
 "cells": [
  {
   "cell_type": "code",
   "execution_count": 1,
   "id": "81d8a324-af34-4a95-b9f8-54c420e298eb",
   "metadata": {},
   "outputs": [],
   "source": [
    "from nltk.stem.porter import PorterStemmer \n",
    "from sklearn.feature_extraction.text import TfidfVectorizer \n",
    "from sklearn.model_selection import train_test_split \n",
    "import pickle \n",
    "from sklearn.linear_model import LogisticRegressionCV \n",
    "import re \n",
    "import pandas as pd \n",
    "import warnings \n",
    "warnings.filterwarnings (\"ignore\")"
   ]
  },
  {
   "cell_type": "code",
   "execution_count": 2,
   "id": "bc7477a6-f672-4c70-935d-690e0058f895",
   "metadata": {},
   "outputs": [],
   "source": [
    "df = pd.read_csv('covid_fake.csv')"
   ]
  },
  {
   "cell_type": "code",
   "execution_count": 3,
   "id": "63d16fcb-513f-47ea-9c82-5821b36e1092",
   "metadata": {},
   "outputs": [
    {
     "data": {
      "text/html": [
       "<div>\n",
       "<style scoped>\n",
       "    .dataframe tbody tr th:only-of-type {\n",
       "        vertical-align: middle;\n",
       "    }\n",
       "\n",
       "    .dataframe tbody tr th {\n",
       "        vertical-align: top;\n",
       "    }\n",
       "\n",
       "    .dataframe thead th {\n",
       "        text-align: right;\n",
       "    }\n",
       "</style>\n",
       "<table border=\"1\" class=\"dataframe\">\n",
       "  <thead>\n",
       "    <tr style=\"text-align: right;\">\n",
       "      <th></th>\n",
       "      <th>title</th>\n",
       "      <th>text</th>\n",
       "      <th>source</th>\n",
       "      <th>label</th>\n",
       "    </tr>\n",
       "  </thead>\n",
       "  <tbody>\n",
       "    <tr>\n",
       "      <th>0</th>\n",
       "      <td>Due to the recent outbreak for the Coronavirus...</td>\n",
       "      <td>You just need to add water, and the drugs and ...</td>\n",
       "      <td>coronavirusmedicalkit.com</td>\n",
       "      <td>Fake</td>\n",
       "    </tr>\n",
       "    <tr>\n",
       "      <th>1</th>\n",
       "      <td>NaN</td>\n",
       "      <td>Hydroxychloroquine has been shown to have a 10...</td>\n",
       "      <td>RudyGiuliani</td>\n",
       "      <td>Fake</td>\n",
       "    </tr>\n",
       "    <tr>\n",
       "      <th>2</th>\n",
       "      <td>NaN</td>\n",
       "      <td>Fact: Hydroxychloroquine has been shown to hav...</td>\n",
       "      <td>CharlieKirk</td>\n",
       "      <td>Fake</td>\n",
       "    </tr>\n",
       "    <tr>\n",
       "      <th>3</th>\n",
       "      <td>NaN</td>\n",
       "      <td>The Corona virus is a man made virus created i...</td>\n",
       "      <td>JoanneWrightForCongress</td>\n",
       "      <td>Fake</td>\n",
       "    </tr>\n",
       "    <tr>\n",
       "      <th>4</th>\n",
       "      <td>NaN</td>\n",
       "      <td>Doesn’t @BillGates finance research at the Wuh...</td>\n",
       "      <td>JoanneWrightForCongress</td>\n",
       "      <td>Fake</td>\n",
       "    </tr>\n",
       "  </tbody>\n",
       "</table>\n",
       "</div>"
      ],
      "text/plain": [
       "                                               title  \\\n",
       "0  Due to the recent outbreak for the Coronavirus...   \n",
       "1                                                NaN   \n",
       "2                                                NaN   \n",
       "3                                                NaN   \n",
       "4                                                NaN   \n",
       "\n",
       "                                                text  \\\n",
       "0  You just need to add water, and the drugs and ...   \n",
       "1  Hydroxychloroquine has been shown to have a 10...   \n",
       "2  Fact: Hydroxychloroquine has been shown to hav...   \n",
       "3  The Corona virus is a man made virus created i...   \n",
       "4  Doesn’t @BillGates finance research at the Wuh...   \n",
       "\n",
       "                      source label  \n",
       "0  coronavirusmedicalkit.com  Fake  \n",
       "1               RudyGiuliani  Fake  \n",
       "2                CharlieKirk  Fake  \n",
       "3    JoanneWrightForCongress  Fake  \n",
       "4    JoanneWrightForCongress  Fake  "
      ]
     },
     "execution_count": 3,
     "metadata": {},
     "output_type": "execute_result"
    }
   ],
   "source": [
    "df.head()"
   ]
  },
  {
   "cell_type": "code",
   "execution_count": 4,
   "id": "d352e789-57f1-498b-9add-f03a59dbb041",
   "metadata": {},
   "outputs": [
    {
     "data": {
      "text/plain": [
       "(1164, 4)"
      ]
     },
     "execution_count": 4,
     "metadata": {},
     "output_type": "execute_result"
    }
   ],
   "source": [
    "df.shape"
   ]
  },
  {
   "cell_type": "code",
   "execution_count": 5,
   "id": "65a58714-c669-415f-8ff7-433a15166811",
   "metadata": {},
   "outputs": [
    {
     "data": {
      "text/plain": [
       "label\n",
       "TRUE    584\n",
       "Fake    345\n",
       "fake    230\n",
       "Name: count, dtype: int64"
      ]
     },
     "execution_count": 5,
     "metadata": {},
     "output_type": "execute_result"
    }
   ],
   "source": [
    "df['label'].value_counts()"
   ]
  },
  {
   "cell_type": "code",
   "execution_count": 6,
   "id": "ec50be86-bf65-4b34-b205-f930a1c64ebf",
   "metadata": {},
   "outputs": [
    {
     "data": {
      "text/html": [
       "<div>\n",
       "<style scoped>\n",
       "    .dataframe tbody tr th:only-of-type {\n",
       "        vertical-align: middle;\n",
       "    }\n",
       "\n",
       "    .dataframe tbody tr th {\n",
       "        vertical-align: top;\n",
       "    }\n",
       "\n",
       "    .dataframe thead th {\n",
       "        text-align: right;\n",
       "    }\n",
       "</style>\n",
       "<table border=\"1\" class=\"dataframe\">\n",
       "  <thead>\n",
       "    <tr style=\"text-align: right;\">\n",
       "      <th></th>\n",
       "      <th>title</th>\n",
       "      <th>text</th>\n",
       "      <th>source</th>\n",
       "      <th>label</th>\n",
       "    </tr>\n",
       "  </thead>\n",
       "  <tbody>\n",
       "    <tr>\n",
       "      <th>5</th>\n",
       "      <td>CORONA UNMASKED: Chinese Intelligence Officer ...</td>\n",
       "      <td>NaN</td>\n",
       "      <td>NaN</td>\n",
       "      <td>NaN</td>\n",
       "    </tr>\n",
       "    <tr>\n",
       "      <th>6</th>\n",
       "      <td>NaN</td>\n",
       "      <td>Urgent: Health Bulletin to the Public. Ministr...</td>\n",
       "      <td>Ministry of Health</td>\n",
       "      <td>Fake</td>\n",
       "    </tr>\n",
       "    <tr>\n",
       "      <th>7</th>\n",
       "      <td>NaN</td>\n",
       "      <td>Pls tell ur families, relatives and friendsMOH...</td>\n",
       "      <td>NWLLAB</td>\n",
       "      <td>Fake</td>\n",
       "    </tr>\n",
       "    <tr>\n",
       "      <th>8</th>\n",
       "      <td>NaN</td>\n",
       "      <td>SERIOUS EXCELLENT ADVICE by Japanese doctors t...</td>\n",
       "      <td>Japanese doctors treating COVID-19 cases</td>\n",
       "      <td>Fake</td>\n",
       "    </tr>\n",
       "    <tr>\n",
       "      <th>9</th>\n",
       "      <td>Basic protective measures against the new coro...</td>\n",
       "      <td>Stay aware of the latest information on the CO...</td>\n",
       "      <td>https://www.who.int/emergencies/diseases/novel...</td>\n",
       "      <td>TRUE</td>\n",
       "    </tr>\n",
       "    <tr>\n",
       "      <th>10</th>\n",
       "      <td>NaN</td>\n",
       "      <td>The new Coronavirus may not show signs of infe...</td>\n",
       "      <td>Taiwan Experts</td>\n",
       "      <td>Fake</td>\n",
       "    </tr>\n",
       "    <tr>\n",
       "      <th>11</th>\n",
       "      <td>NaN</td>\n",
       "      <td>A vaccine meant for cattle can be used to figh...</td>\n",
       "      <td>facebook</td>\n",
       "      <td>Fake</td>\n",
       "    </tr>\n",
       "    <tr>\n",
       "      <th>12</th>\n",
       "      <td>NaN</td>\n",
       "      <td>Using a hair dryer to breathe in hot air can c...</td>\n",
       "      <td>Youtube</td>\n",
       "      <td>Fake</td>\n",
       "    </tr>\n",
       "    <tr>\n",
       "      <th>13</th>\n",
       "      <td>NaN</td>\n",
       "      <td>Corona virus before it reaches the lungs it re...</td>\n",
       "      <td>twitter</td>\n",
       "      <td>Fake</td>\n",
       "    </tr>\n",
       "    <tr>\n",
       "      <th>14</th>\n",
       "      <td>Exposing yourself to the sun or to temperature...</td>\n",
       "      <td>You can catch COVID-19, no matter how sunny or...</td>\n",
       "      <td>https://www.who.int/emergencies/diseases/novel...</td>\n",
       "      <td>TRUE</td>\n",
       "    </tr>\n",
       "    <tr>\n",
       "      <th>15</th>\n",
       "      <td>You can recover from the coronavirus disease (...</td>\n",
       "      <td>Most of the people who catch COVID-19 can reco...</td>\n",
       "      <td>https://www.who.int/emergencies/diseases/novel...</td>\n",
       "      <td>NaN</td>\n",
       "    </tr>\n",
       "  </tbody>\n",
       "</table>\n",
       "</div>"
      ],
      "text/plain": [
       "                                                title  \\\n",
       "5   CORONA UNMASKED: Chinese Intelligence Officer ...   \n",
       "6                                                 NaN   \n",
       "7                                                 NaN   \n",
       "8                                                 NaN   \n",
       "9   Basic protective measures against the new coro...   \n",
       "10                                                NaN   \n",
       "11                                                NaN   \n",
       "12                                                NaN   \n",
       "13                                                NaN   \n",
       "14  Exposing yourself to the sun or to temperature...   \n",
       "15  You can recover from the coronavirus disease (...   \n",
       "\n",
       "                                                 text  \\\n",
       "5                                                 NaN   \n",
       "6   Urgent: Health Bulletin to the Public. Ministr...   \n",
       "7   Pls tell ur families, relatives and friendsMOH...   \n",
       "8   SERIOUS EXCELLENT ADVICE by Japanese doctors t...   \n",
       "9   Stay aware of the latest information on the CO...   \n",
       "10  The new Coronavirus may not show signs of infe...   \n",
       "11  A vaccine meant for cattle can be used to figh...   \n",
       "12  Using a hair dryer to breathe in hot air can c...   \n",
       "13  Corona virus before it reaches the lungs it re...   \n",
       "14  You can catch COVID-19, no matter how sunny or...   \n",
       "15  Most of the people who catch COVID-19 can reco...   \n",
       "\n",
       "                                               source label  \n",
       "5                                                 NaN   NaN  \n",
       "6                                  Ministry of Health  Fake  \n",
       "7                                              NWLLAB  Fake  \n",
       "8            Japanese doctors treating COVID-19 cases  Fake  \n",
       "9   https://www.who.int/emergencies/diseases/novel...  TRUE  \n",
       "10                                     Taiwan Experts  Fake  \n",
       "11                                           facebook  Fake  \n",
       "12                                            Youtube  Fake  \n",
       "13                                            twitter  Fake  \n",
       "14  https://www.who.int/emergencies/diseases/novel...  TRUE  \n",
       "15  https://www.who.int/emergencies/diseases/novel...   NaN  "
      ]
     },
     "execution_count": 6,
     "metadata": {},
     "output_type": "execute_result"
    }
   ],
   "source": [
    "df.loc[5:15]"
   ]
  },
  {
   "cell_type": "code",
   "execution_count": 8,
   "id": "069f6413-f7b2-4e23-ad44-e9c1ea8138b4",
   "metadata": {},
   "outputs": [
    {
     "data": {
      "text/plain": [
       "title     82\n",
       "text      10\n",
       "source    20\n",
       "label      5\n",
       "dtype: int64"
      ]
     },
     "execution_count": 8,
     "metadata": {},
     "output_type": "execute_result"
    }
   ],
   "source": [
    "df.isna().sum()"
   ]
  },
  {
   "cell_type": "code",
   "execution_count": 24,
   "id": "e69e8c25-0426-4545-b0ed-60d6c4bd1986",
   "metadata": {},
   "outputs": [],
   "source": [
    "df.loc[df['label'] == 'Fake', ['label']] = 'FAKE' \n",
    "df.loc[df['label'] == 'fake', ['label']] = 'FAKE' \n",
    "df.loc[df['source'] == 'facebook', ['source']] = 'Facebook' \n",
    "df.text.fillna(df.title, inplace=True) \n",
    "df.loc[5]['label'] = 'FAKE' \n",
    "df.loc[15] ['label'] = 'TRUE' \n",
    "df.loc[43] ['label'] = 'FAKE' \n",
    "df.loc[131]['label'] = 'TRUE' \n",
    "df.loc[242]['label'] = 'FAKE' \n",
    "#df = df.sample(frac=1).reset_index(drop=True) \n",
    "df.title.fillna('missing', inplace=True) \n",
    "df.source.fillna('missing', inplace=True) \n",
    "df['title_text'] = df['title'] + ' ' + df['text'] \n"
   ]
  },
  {
   "cell_type": "code",
   "execution_count": 26,
   "id": "70fdd234-2718-4f77-a778-aba2e694fde4",
   "metadata": {},
   "outputs": [
    {
     "data": {
      "text/plain": [
       "title         0\n",
       "text          0\n",
       "source        0\n",
       "label         0\n",
       "title_text    0\n",
       "dtype: int64"
      ]
     },
     "execution_count": 26,
     "metadata": {},
     "output_type": "execute_result"
    }
   ],
   "source": [
    "df.isna().sum()"
   ]
  },
  {
   "cell_type": "code",
   "execution_count": 28,
   "id": "3b0c1ce1-496e-4f56-8ee3-bbb12f207708",
   "metadata": {},
   "outputs": [
    {
     "data": {
      "text/html": [
       "<div>\n",
       "<style scoped>\n",
       "    .dataframe tbody tr th:only-of-type {\n",
       "        vertical-align: middle;\n",
       "    }\n",
       "\n",
       "    .dataframe tbody tr th {\n",
       "        vertical-align: top;\n",
       "    }\n",
       "\n",
       "    .dataframe thead th {\n",
       "        text-align: right;\n",
       "    }\n",
       "</style>\n",
       "<table border=\"1\" class=\"dataframe\">\n",
       "  <thead>\n",
       "    <tr style=\"text-align: right;\">\n",
       "      <th></th>\n",
       "      <th>title</th>\n",
       "      <th>text</th>\n",
       "      <th>source</th>\n",
       "      <th>label</th>\n",
       "      <th>title_text</th>\n",
       "    </tr>\n",
       "  </thead>\n",
       "  <tbody>\n",
       "    <tr>\n",
       "      <th>0</th>\n",
       "      <td>Due to the recent outbreak for the Coronavirus...</td>\n",
       "      <td>You just need to add water, and the drugs and ...</td>\n",
       "      <td>coronavirusmedicalkit.com</td>\n",
       "      <td>FAKE</td>\n",
       "      <td>Due to the recent outbreak for the Coronavirus...</td>\n",
       "    </tr>\n",
       "    <tr>\n",
       "      <th>1</th>\n",
       "      <td>missing</td>\n",
       "      <td>Hydroxychloroquine has been shown to have a 10...</td>\n",
       "      <td>RudyGiuliani</td>\n",
       "      <td>FAKE</td>\n",
       "      <td>missing Hydroxychloroquine has been shown to h...</td>\n",
       "    </tr>\n",
       "    <tr>\n",
       "      <th>2</th>\n",
       "      <td>missing</td>\n",
       "      <td>Fact: Hydroxychloroquine has been shown to hav...</td>\n",
       "      <td>CharlieKirk</td>\n",
       "      <td>FAKE</td>\n",
       "      <td>missing Fact: Hydroxychloroquine has been show...</td>\n",
       "    </tr>\n",
       "    <tr>\n",
       "      <th>3</th>\n",
       "      <td>missing</td>\n",
       "      <td>The Corona virus is a man made virus created i...</td>\n",
       "      <td>JoanneWrightForCongress</td>\n",
       "      <td>FAKE</td>\n",
       "      <td>missing The Corona virus is a man made virus c...</td>\n",
       "    </tr>\n",
       "    <tr>\n",
       "      <th>4</th>\n",
       "      <td>missing</td>\n",
       "      <td>Doesn’t @BillGates finance research at the Wuh...</td>\n",
       "      <td>JoanneWrightForCongress</td>\n",
       "      <td>FAKE</td>\n",
       "      <td>missing Doesn’t @BillGates finance research at...</td>\n",
       "    </tr>\n",
       "  </tbody>\n",
       "</table>\n",
       "</div>"
      ],
      "text/plain": [
       "                                               title  \\\n",
       "0  Due to the recent outbreak for the Coronavirus...   \n",
       "1                                            missing   \n",
       "2                                            missing   \n",
       "3                                            missing   \n",
       "4                                            missing   \n",
       "\n",
       "                                                text  \\\n",
       "0  You just need to add water, and the drugs and ...   \n",
       "1  Hydroxychloroquine has been shown to have a 10...   \n",
       "2  Fact: Hydroxychloroquine has been shown to hav...   \n",
       "3  The Corona virus is a man made virus created i...   \n",
       "4  Doesn’t @BillGates finance research at the Wuh...   \n",
       "\n",
       "                      source label  \\\n",
       "0  coronavirusmedicalkit.com  FAKE   \n",
       "1               RudyGiuliani  FAKE   \n",
       "2                CharlieKirk  FAKE   \n",
       "3    JoanneWrightForCongress  FAKE   \n",
       "4    JoanneWrightForCongress  FAKE   \n",
       "\n",
       "                                          title_text  \n",
       "0  Due to the recent outbreak for the Coronavirus...  \n",
       "1  missing Hydroxychloroquine has been shown to h...  \n",
       "2  missing Fact: Hydroxychloroquine has been show...  \n",
       "3  missing The Corona virus is a man made virus c...  \n",
       "4  missing Doesn’t @BillGates finance research at...  "
      ]
     },
     "execution_count": 28,
     "metadata": {},
     "output_type": "execute_result"
    }
   ],
   "source": [
    "df.head()"
   ]
  },
  {
   "cell_type": "code",
   "execution_count": 30,
   "id": "f04bbc57-a160-4180-97a0-2689004096c0",
   "metadata": {},
   "outputs": [
    {
     "data": {
      "text/plain": [
       "label\n",
       "TRUE    586\n",
       "FAKE    578\n",
       "Name: count, dtype: int64"
      ]
     },
     "execution_count": 30,
     "metadata": {},
     "output_type": "execute_result"
    }
   ],
   "source": [
    "df['label'].value_counts()"
   ]
  },
  {
   "cell_type": "code",
   "execution_count": 32,
   "id": "96d6655c-0c6a-487d-a479-09d866cece40",
   "metadata": {},
   "outputs": [
    {
     "data": {
      "text/plain": [
       "(1164, 5)"
      ]
     },
     "execution_count": 32,
     "metadata": {},
     "output_type": "execute_result"
    }
   ],
   "source": [
    "df.shape"
   ]
  },
  {
   "cell_type": "code",
   "execution_count": 34,
   "id": "2cbd34e0-ad95-4589-bb44-a470f6788689",
   "metadata": {},
   "outputs": [
    {
     "data": {
      "text/plain": [
       "'missing The Corona virus is a man made virus created in a Wuhan laboratory. Ask @BillGates who financed it.'"
      ]
     },
     "execution_count": 34,
     "metadata": {},
     "output_type": "execute_result"
    }
   ],
   "source": [
    "df['title_text'][3]"
   ]
  },
  {
   "cell_type": "code",
   "execution_count": 36,
   "id": "d61e9dfc-2bcd-43c3-bec9-96a212cf755d",
   "metadata": {},
   "outputs": [
    {
     "data": {
      "text/plain": [
       "'missing the corona virus is a man made virus created in a wuhan laboratory ask billgates who financed it'"
      ]
     },
     "execution_count": 36,
     "metadata": {},
     "output_type": "execute_result"
    }
   ],
   "source": [
    "def preprocessor(text): \n",
    "    text = re.sub('<[^>]*>', '', text) \n",
    "    text = re.sub(r'[^\\w\\s]','', text) \n",
    "    text = re.sub(r'[\\n]', '', text) \n",
    "    text = text.lower() \n",
    "    return text \n",
    "    \n",
    "df['title_text'] = df['title_text'].apply(preprocessor) \n",
    "df['title_text'][3]"
   ]
  },
  {
   "cell_type": "code",
   "execution_count": 38,
   "id": "c1a4e99e-5ed2-4883-8319-e95239884197",
   "metadata": {},
   "outputs": [],
   "source": [
    "porter = PorterStemmer()\n",
    "def tokenizer_porter(text):\n",
    "    return [porter.stem(word) for word in text.split()]"
   ]
  },
  {
   "cell_type": "code",
   "execution_count": 52,
   "id": "5d0e25af-1f49-43de-bf90-71b8c989d0ec",
   "metadata": {},
   "outputs": [],
   "source": [
    "from sklearn.feature_extraction.text import TfidfVectorizer\n",
    "\n",
    "tfidf = TfidfVectorizer(\n",
    "    strip_accents=None,\n",
    "    lowercase=False,\n",
    "    preprocessor=None,\n",
    "    tokenizer=tokenizer_porter, \n",
    "    use_idf=True,  \n",
    "    norm='l2',  # Corrected normalization parameter\n",
    "    smooth_idf=True\n",
    ")\n",
    "\n",
    "X = tfidf.fit_transform(df['title_text'])  # Ensure 'title_text' exists in df\n",
    "y = df['label'].values  # Ensure 'label' column exists\n"
   ]
  },
  {
   "cell_type": "code",
   "execution_count": 53,
   "id": "2189c5fe-2004-44eb-811b-f6d28c5c985a",
   "metadata": {},
   "outputs": [
    {
     "data": {
      "text/plain": [
       "(1164, 27020)"
      ]
     },
     "execution_count": 53,
     "metadata": {},
     "output_type": "execute_result"
    }
   ],
   "source": [
    "X.shape"
   ]
  },
  {
   "cell_type": "code",
   "execution_count": 56,
   "id": "16ede39d-af57-467f-9c67-0a1e3c109ff8",
   "metadata": {
    "collapsed": true,
    "jupyter": {
     "outputs_hidden": true,
     "source_hidden": true
    }
   },
   "outputs": [
    {
     "data": {
      "text/plain": [
       "\u001b[1;31mInit signature:\u001b[0m\n",
       "\u001b[0mTfidfVectorizer\u001b[0m\u001b[1;33m(\u001b[0m\u001b[1;33m\n",
       "\u001b[0m    \u001b[1;33m*\u001b[0m\u001b[1;33m,\u001b[0m\u001b[1;33m\n",
       "\u001b[0m    \u001b[0minput\u001b[0m\u001b[1;33m=\u001b[0m\u001b[1;34m'content'\u001b[0m\u001b[1;33m,\u001b[0m\u001b[1;33m\n",
       "\u001b[0m    \u001b[0mencoding\u001b[0m\u001b[1;33m=\u001b[0m\u001b[1;34m'utf-8'\u001b[0m\u001b[1;33m,\u001b[0m\u001b[1;33m\n",
       "\u001b[0m    \u001b[0mdecode_error\u001b[0m\u001b[1;33m=\u001b[0m\u001b[1;34m'strict'\u001b[0m\u001b[1;33m,\u001b[0m\u001b[1;33m\n",
       "\u001b[0m    \u001b[0mstrip_accents\u001b[0m\u001b[1;33m=\u001b[0m\u001b[1;32mNone\u001b[0m\u001b[1;33m,\u001b[0m\u001b[1;33m\n",
       "\u001b[0m    \u001b[0mlowercase\u001b[0m\u001b[1;33m=\u001b[0m\u001b[1;32mTrue\u001b[0m\u001b[1;33m,\u001b[0m\u001b[1;33m\n",
       "\u001b[0m    \u001b[0mpreprocessor\u001b[0m\u001b[1;33m=\u001b[0m\u001b[1;32mNone\u001b[0m\u001b[1;33m,\u001b[0m\u001b[1;33m\n",
       "\u001b[0m    \u001b[0mtokenizer\u001b[0m\u001b[1;33m=\u001b[0m\u001b[1;32mNone\u001b[0m\u001b[1;33m,\u001b[0m\u001b[1;33m\n",
       "\u001b[0m    \u001b[0manalyzer\u001b[0m\u001b[1;33m=\u001b[0m\u001b[1;34m'word'\u001b[0m\u001b[1;33m,\u001b[0m\u001b[1;33m\n",
       "\u001b[0m    \u001b[0mstop_words\u001b[0m\u001b[1;33m=\u001b[0m\u001b[1;32mNone\u001b[0m\u001b[1;33m,\u001b[0m\u001b[1;33m\n",
       "\u001b[0m    \u001b[0mtoken_pattern\u001b[0m\u001b[1;33m=\u001b[0m\u001b[1;34m'(?u)\\\\b\\\\w\\\\w+\\\\b'\u001b[0m\u001b[1;33m,\u001b[0m\u001b[1;33m\n",
       "\u001b[0m    \u001b[0mngram_range\u001b[0m\u001b[1;33m=\u001b[0m\u001b[1;33m(\u001b[0m\u001b[1;36m1\u001b[0m\u001b[1;33m,\u001b[0m \u001b[1;36m1\u001b[0m\u001b[1;33m)\u001b[0m\u001b[1;33m,\u001b[0m\u001b[1;33m\n",
       "\u001b[0m    \u001b[0mmax_df\u001b[0m\u001b[1;33m=\u001b[0m\u001b[1;36m1.0\u001b[0m\u001b[1;33m,\u001b[0m\u001b[1;33m\n",
       "\u001b[0m    \u001b[0mmin_df\u001b[0m\u001b[1;33m=\u001b[0m\u001b[1;36m1\u001b[0m\u001b[1;33m,\u001b[0m\u001b[1;33m\n",
       "\u001b[0m    \u001b[0mmax_features\u001b[0m\u001b[1;33m=\u001b[0m\u001b[1;32mNone\u001b[0m\u001b[1;33m,\u001b[0m\u001b[1;33m\n",
       "\u001b[0m    \u001b[0mvocabulary\u001b[0m\u001b[1;33m=\u001b[0m\u001b[1;32mNone\u001b[0m\u001b[1;33m,\u001b[0m\u001b[1;33m\n",
       "\u001b[0m    \u001b[0mbinary\u001b[0m\u001b[1;33m=\u001b[0m\u001b[1;32mFalse\u001b[0m\u001b[1;33m,\u001b[0m\u001b[1;33m\n",
       "\u001b[0m    \u001b[0mdtype\u001b[0m\u001b[1;33m=\u001b[0m\u001b[1;33m<\u001b[0m\u001b[1;32mclass\u001b[0m \u001b[1;34m'numpy.float64'\u001b[0m\u001b[1;33m>\u001b[0m\u001b[1;33m,\u001b[0m\u001b[1;33m\n",
       "\u001b[0m    \u001b[0mnorm\u001b[0m\u001b[1;33m=\u001b[0m\u001b[1;34m'l2'\u001b[0m\u001b[1;33m,\u001b[0m\u001b[1;33m\n",
       "\u001b[0m    \u001b[0muse_idf\u001b[0m\u001b[1;33m=\u001b[0m\u001b[1;32mTrue\u001b[0m\u001b[1;33m,\u001b[0m\u001b[1;33m\n",
       "\u001b[0m    \u001b[0msmooth_idf\u001b[0m\u001b[1;33m=\u001b[0m\u001b[1;32mTrue\u001b[0m\u001b[1;33m,\u001b[0m\u001b[1;33m\n",
       "\u001b[0m    \u001b[0msublinear_tf\u001b[0m\u001b[1;33m=\u001b[0m\u001b[1;32mFalse\u001b[0m\u001b[1;33m,\u001b[0m\u001b[1;33m\n",
       "\u001b[0m\u001b[1;33m)\u001b[0m\u001b[1;33m\u001b[0m\u001b[1;33m\u001b[0m\u001b[0m\n",
       "\u001b[1;31mDocstring:\u001b[0m     \n",
       "Convert a collection of raw documents to a matrix of TF-IDF features.\n",
       "\n",
       "Equivalent to :class:`CountVectorizer` followed by\n",
       ":class:`TfidfTransformer`.\n",
       "\n",
       "For an example of usage, see\n",
       ":ref:`sphx_glr_auto_examples_text_plot_document_classification_20newsgroups.py`.\n",
       "\n",
       "For an efficiency comparison of the different feature extractors, see\n",
       ":ref:`sphx_glr_auto_examples_text_plot_hashing_vs_dict_vectorizer.py`.\n",
       "\n",
       "For an example of document clustering and comparison with\n",
       ":class:`~sklearn.feature_extraction.text.HashingVectorizer`, see\n",
       ":ref:`sphx_glr_auto_examples_text_plot_document_clustering.py`.\n",
       "\n",
       "Read more in the :ref:`User Guide <text_feature_extraction>`.\n",
       "\n",
       "Parameters\n",
       "----------\n",
       "input : {'filename', 'file', 'content'}, default='content'\n",
       "    - If `'filename'`, the sequence passed as an argument to fit is\n",
       "      expected to be a list of filenames that need reading to fetch\n",
       "      the raw content to analyze.\n",
       "\n",
       "    - If `'file'`, the sequence items must have a 'read' method (file-like\n",
       "      object) that is called to fetch the bytes in memory.\n",
       "\n",
       "    - If `'content'`, the input is expected to be a sequence of items that\n",
       "      can be of type string or byte.\n",
       "\n",
       "encoding : str, default='utf-8'\n",
       "    If bytes or files are given to analyze, this encoding is used to\n",
       "    decode.\n",
       "\n",
       "decode_error : {'strict', 'ignore', 'replace'}, default='strict'\n",
       "    Instruction on what to do if a byte sequence is given to analyze that\n",
       "    contains characters not of the given `encoding`. By default, it is\n",
       "    'strict', meaning that a UnicodeDecodeError will be raised. Other\n",
       "    values are 'ignore' and 'replace'.\n",
       "\n",
       "strip_accents : {'ascii', 'unicode'} or callable, default=None\n",
       "    Remove accents and perform other character normalization\n",
       "    during the preprocessing step.\n",
       "    'ascii' is a fast method that only works on characters that have\n",
       "    a direct ASCII mapping.\n",
       "    'unicode' is a slightly slower method that works on any characters.\n",
       "    None (default) means no character normalization is performed.\n",
       "\n",
       "    Both 'ascii' and 'unicode' use NFKD normalization from\n",
       "    :func:`unicodedata.normalize`.\n",
       "\n",
       "lowercase : bool, default=True\n",
       "    Convert all characters to lowercase before tokenizing.\n",
       "\n",
       "preprocessor : callable, default=None\n",
       "    Override the preprocessing (string transformation) stage while\n",
       "    preserving the tokenizing and n-grams generation steps.\n",
       "    Only applies if ``analyzer`` is not callable.\n",
       "\n",
       "tokenizer : callable, default=None\n",
       "    Override the string tokenization step while preserving the\n",
       "    preprocessing and n-grams generation steps.\n",
       "    Only applies if ``analyzer == 'word'``.\n",
       "\n",
       "analyzer : {'word', 'char', 'char_wb'} or callable, default='word'\n",
       "    Whether the feature should be made of word or character n-grams.\n",
       "    Option 'char_wb' creates character n-grams only from text inside\n",
       "    word boundaries; n-grams at the edges of words are padded with space.\n",
       "\n",
       "    If a callable is passed it is used to extract the sequence of features\n",
       "    out of the raw, unprocessed input.\n",
       "\n",
       "    .. versionchanged:: 0.21\n",
       "        Since v0.21, if ``input`` is ``'filename'`` or ``'file'``, the data\n",
       "        is first read from the file and then passed to the given callable\n",
       "        analyzer.\n",
       "\n",
       "stop_words : {'english'}, list, default=None\n",
       "    If a string, it is passed to _check_stop_list and the appropriate stop\n",
       "    list is returned. 'english' is currently the only supported string\n",
       "    value.\n",
       "    There are several known issues with 'english' and you should\n",
       "    consider an alternative (see :ref:`stop_words`).\n",
       "\n",
       "    If a list, that list is assumed to contain stop words, all of which\n",
       "    will be removed from the resulting tokens.\n",
       "    Only applies if ``analyzer == 'word'``.\n",
       "\n",
       "    If None, no stop words will be used. In this case, setting `max_df`\n",
       "    to a higher value, such as in the range (0.7, 1.0), can automatically detect\n",
       "    and filter stop words based on intra corpus document frequency of terms.\n",
       "\n",
       "token_pattern : str, default=r\"(?u)\\\\b\\\\w\\\\w+\\\\b\"\n",
       "    Regular expression denoting what constitutes a \"token\", only used\n",
       "    if ``analyzer == 'word'``. The default regexp selects tokens of 2\n",
       "    or more alphanumeric characters (punctuation is completely ignored\n",
       "    and always treated as a token separator).\n",
       "\n",
       "    If there is a capturing group in token_pattern then the\n",
       "    captured group content, not the entire match, becomes the token.\n",
       "    At most one capturing group is permitted.\n",
       "\n",
       "ngram_range : tuple (min_n, max_n), default=(1, 1)\n",
       "    The lower and upper boundary of the range of n-values for different\n",
       "    n-grams to be extracted. All values of n such that min_n <= n <= max_n\n",
       "    will be used. For example an ``ngram_range`` of ``(1, 1)`` means only\n",
       "    unigrams, ``(1, 2)`` means unigrams and bigrams, and ``(2, 2)`` means\n",
       "    only bigrams.\n",
       "    Only applies if ``analyzer`` is not callable.\n",
       "\n",
       "max_df : float or int, default=1.0\n",
       "    When building the vocabulary ignore terms that have a document\n",
       "    frequency strictly higher than the given threshold (corpus-specific\n",
       "    stop words).\n",
       "    If float in range [0.0, 1.0], the parameter represents a proportion of\n",
       "    documents, integer absolute counts.\n",
       "    This parameter is ignored if vocabulary is not None.\n",
       "\n",
       "min_df : float or int, default=1\n",
       "    When building the vocabulary ignore terms that have a document\n",
       "    frequency strictly lower than the given threshold. This value is also\n",
       "    called cut-off in the literature.\n",
       "    If float in range of [0.0, 1.0], the parameter represents a proportion\n",
       "    of documents, integer absolute counts.\n",
       "    This parameter is ignored if vocabulary is not None.\n",
       "\n",
       "max_features : int, default=None\n",
       "    If not None, build a vocabulary that only consider the top\n",
       "    `max_features` ordered by term frequency across the corpus.\n",
       "    Otherwise, all features are used.\n",
       "\n",
       "    This parameter is ignored if vocabulary is not None.\n",
       "\n",
       "vocabulary : Mapping or iterable, default=None\n",
       "    Either a Mapping (e.g., a dict) where keys are terms and values are\n",
       "    indices in the feature matrix, or an iterable over terms. If not\n",
       "    given, a vocabulary is determined from the input documents.\n",
       "\n",
       "binary : bool, default=False\n",
       "    If True, all non-zero term counts are set to 1. This does not mean\n",
       "    outputs will have only 0/1 values, only that the tf term in tf-idf\n",
       "    is binary. (Set `binary` to True, `use_idf` to False and\n",
       "    `norm` to None to get 0/1 outputs).\n",
       "\n",
       "dtype : dtype, default=float64\n",
       "    Type of the matrix returned by fit_transform() or transform().\n",
       "\n",
       "norm : {'l1', 'l2'} or None, default='l2'\n",
       "    Each output row will have unit norm, either:\n",
       "\n",
       "    - 'l2': Sum of squares of vector elements is 1. The cosine\n",
       "      similarity between two vectors is their dot product when l2 norm has\n",
       "      been applied.\n",
       "    - 'l1': Sum of absolute values of vector elements is 1.\n",
       "      See :func:`~sklearn.preprocessing.normalize`.\n",
       "    - None: No normalization.\n",
       "\n",
       "use_idf : bool, default=True\n",
       "    Enable inverse-document-frequency reweighting. If False, idf(t) = 1.\n",
       "\n",
       "smooth_idf : bool, default=True\n",
       "    Smooth idf weights by adding one to document frequencies, as if an\n",
       "    extra document was seen containing every term in the collection\n",
       "    exactly once. Prevents zero divisions.\n",
       "\n",
       "sublinear_tf : bool, default=False\n",
       "    Apply sublinear tf scaling, i.e. replace tf with 1 + log(tf).\n",
       "\n",
       "Attributes\n",
       "----------\n",
       "vocabulary_ : dict\n",
       "    A mapping of terms to feature indices.\n",
       "\n",
       "fixed_vocabulary_ : bool\n",
       "    True if a fixed vocabulary of term to indices mapping\n",
       "    is provided by the user.\n",
       "\n",
       "idf_ : array of shape (n_features,)\n",
       "    The inverse document frequency (IDF) vector; only defined\n",
       "    if ``use_idf`` is True.\n",
       "\n",
       "See Also\n",
       "--------\n",
       "CountVectorizer : Transforms text into a sparse matrix of n-gram counts.\n",
       "\n",
       "TfidfTransformer : Performs the TF-IDF transformation from a provided\n",
       "    matrix of counts.\n",
       "\n",
       "Examples\n",
       "--------\n",
       ">>> from sklearn.feature_extraction.text import TfidfVectorizer\n",
       ">>> corpus = [\n",
       "...     'This is the first document.',\n",
       "...     'This document is the second document.',\n",
       "...     'And this is the third one.',\n",
       "...     'Is this the first document?',\n",
       "... ]\n",
       ">>> vectorizer = TfidfVectorizer()\n",
       ">>> X = vectorizer.fit_transform(corpus)\n",
       ">>> vectorizer.get_feature_names_out()\n",
       "array(['and', 'document', 'first', 'is', 'one', 'second', 'the', 'third',\n",
       "       'this'], ...)\n",
       ">>> print(X.shape)\n",
       "(4, 9)\n",
       "\u001b[1;31mFile:\u001b[0m           c:\\users\\bknai\\anaconda3\\lib\\site-packages\\sklearn\\feature_extraction\\text.py\n",
       "\u001b[1;31mType:\u001b[0m           type\n",
       "\u001b[1;31mSubclasses:\u001b[0m     "
      ]
     },
     "metadata": {},
     "output_type": "display_data"
    }
   ],
   "source": [
    "TfidfVectorizer?"
   ]
  },
  {
   "cell_type": "code",
   "execution_count": 60,
   "id": "d024522a-98c3-44ce-b5e0-7210df21d6e8",
   "metadata": {},
   "outputs": [],
   "source": [
    "X_train, X_test, y_train, y_test = train_test_split(X, y, random_state=0,test_size=0.3, shuffle=False) \n",
    "clf = LogisticRegressionCV(cv=5, scoring='accuracy', random_state=0, n_jobs=-1,verbose=0, max_iter=300) \n",
    "clf.fit(X_train, y_train) \n",
    "fake_news_model = open('fake_news_model.sav', 'wb') \n",
    "pickle.dump(clf, fake_news_model) \n",
    "fake_news_model.close()"
   ]
  },
  {
   "cell_type": "code",
   "execution_count": 66,
   "id": "f6dd7d96-a3e3-41c5-bd53-4ef7ccfed622",
   "metadata": {},
   "outputs": [
    {
     "name": "stdout",
     "output_type": "stream",
     "text": [
      "---Test Set Results---\n",
      "              precision    recall  f1-score   support\n",
      "\n",
      "        FAKE       0.92      0.89      0.91       132\n",
      "        TRUE       0.94      0.95      0.95       218\n",
      "\n",
      "    accuracy                           0.93       350\n",
      "   macro avg       0.93      0.92      0.93       350\n",
      "weighted avg       0.93      0.93      0.93       350\n",
      "\n"
     ]
    },
    {
     "data": {
      "text/plain": [
       "array(['FAKE'], dtype=object)"
      ]
     },
     "execution_count": 66,
     "metadata": {},
     "output_type": "execute_result"
    }
   ],
   "source": [
    "filename = 'fake_news_model.sav' \n",
    "saved_clf = pickle.load(open(filename, 'rb')) \n",
    "saved_clf.score(X_test, y_test) \n",
    "from sklearn.metrics import classification_report, accuracy_score \n",
    "y_pred = clf.predict(X_test) \n",
    "print(\"---Test Set Results---\") \n",
    "print(classification_report(y_test, y_pred)) \n",
    "# sample prediction \n",
    "clf.predict(X_test[59])"
   ]
  },
  {
   "cell_type": "code",
   "execution_count": 70,
   "id": "3080a787-6d81-4bc6-b4e1-16f032c192f7",
   "metadata": {},
   "outputs": [
    {
     "name": "stdout",
     "output_type": "stream",
     "text": [
      "['FAKE']\n"
     ]
    }
   ],
   "source": [
    "test =\"Corona virus before it reaches the lungs\"\n",
    "inp=[test]\n",
    "vect = tfidf.transform(inp)\n",
    "prediction = clf.predict(vect)\n",
    "print(prediction)"
   ]
  },
  {
   "cell_type": "code",
   "execution_count": null,
   "id": "eb8b646f-2f89-4fb8-8aab-e6ad5638f259",
   "metadata": {},
   "outputs": [],
   "source": []
  }
 ],
 "metadata": {
  "kernelspec": {
   "display_name": "Python 3 (ipykernel)",
   "language": "python",
   "name": "python3"
  },
  "language_info": {
   "codemirror_mode": {
    "name": "ipython",
    "version": 3
   },
   "file_extension": ".py",
   "mimetype": "text/x-python",
   "name": "python",
   "nbconvert_exporter": "python",
   "pygments_lexer": "ipython3",
   "version": "3.12.7"
  }
 },
 "nbformat": 4,
 "nbformat_minor": 5
}
