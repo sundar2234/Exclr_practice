{
 "cells": [
  {
   "cell_type": "code",
   "execution_count": 5,
   "id": "4c1e985a-d196-40a3-ae32-b8a2f7384585",
   "metadata": {},
   "outputs": [],
   "source": [
    "import numpy as np \n",
    "from sklearn.feature_extraction.text import TfidfVectorizer \n",
    "from sklearn.metrics.pairwise import cosine_similarity \n",
    "\n",
    "\n",
    "responses = [ \n",
    "\"You can return an item within 7 days of purchase.\", \n",
    "\"Our return policy allows you to return items that are unopened and in their original condition.\", \n",
    "\"We offer free shipping on orders over $50.\", \n",
    "\"To track your order, you can visit the 'Order Tracking' page and enter your order number.\", \n",
    "\"Our customer support team is available from 9 AM to 6 PM, Monday through Friday.\" \n",
    "]"
   ]
  },
  {
   "cell_type": "code",
   "execution_count": 7,
   "id": "a23c266f-cea0-465d-9f80-58aed0265d4a",
   "metadata": {},
   "outputs": [],
   "source": [
    "user_input = \"How can i track my order?\""
   ]
  },
  {
   "cell_type": "code",
   "execution_count": 11,
   "id": "e3d7f31c-0b1c-42b3-a937-0752d6275207",
   "metadata": {},
   "outputs": [],
   "source": [
    "vectorizer = TfidfVectorizer(stop_words = 'english')\n",
    "all_texts = responses+[user_input]"
   ]
  },
  {
   "cell_type": "code",
   "execution_count": 13,
   "id": "d28f7ebf-977d-4156-8566-110c5ddedcbc",
   "metadata": {},
   "outputs": [],
   "source": [
    "tfidf_matrix = vectorizer.fit_transform(all_texts)"
   ]
  },
  {
   "cell_type": "code",
   "execution_count": 39,
   "id": "c70217fa-7b22-49c4-8de5-23f926cf1454",
   "metadata": {},
   "outputs": [
    {
     "name": "stdout",
     "output_type": "stream",
     "text": [
      "user query: How can i track my order?\n",
      "Most relevant response: To track your order, you can visit the 'Order Tracking' page and enter your order number.\n"
     ]
    }
   ],
   "source": [
    "import numpy as np \n",
    "from sklearn.feature_extraction.text import TfidfVectorizer \n",
    "from sklearn.metrics.pairwise import cosine_similarity \n",
    "\n",
    "responses = [ \n",
    "    \"You can return an item within 7 days of purchase.\", \n",
    "    \"Our return policy allows you to return items that are unopened and in their original condition.\", \n",
    "    \"We offer free shipping on orders over $50.\", \n",
    "    \"To track your order, you can visit the 'Order Tracking' page and enter your order number.\", \n",
    "    \"Our customer support team is available from 9 AM to 6 PM, Monday through Friday.\" \n",
    "]\n",
    "\n",
    "user_input = \"How can i track my order?\"\n",
    "\n",
    "\n",
    "vectorizer = TfidfVectorizer(stop_words='english')\n",
    "all_texts = responses + [user_input]\n",
    "tfidf_matrix = vectorizer.fit_transform(all_texts)\n",
    "\n",
    "\n",
    "user_vector = tfidf_matrix[-1]\n",
    "response_vectors = tfidf_matrix[:-1]\n",
    "\n",
    "\n",
    "cosine_similarities = cosine_similarity(user_vector, response_vectors)\n",
    "\n",
    "\n",
    "most_similar_idx = np.argmax(cosine_similarities)\n",
    "print(f'user query: {user_input}')\n",
    "\n",
    "print(f'Most relevant response: {responses[most_similar_idx]}')\n",
    "\n"
   ]
  },
  {
   "cell_type": "code",
   "execution_count": null,
   "id": "1ab40032-e859-499c-a55d-30064180750f",
   "metadata": {},
   "outputs": [],
   "source": []
  },
  {
   "cell_type": "code",
   "execution_count": 41,
   "id": "72c8f60c-b18e-4f0b-a7b5-1e9c2a6383d1",
   "metadata": {},
   "outputs": [],
   "source": [
    "import io \n",
    "import random \n",
    "import string # to process standard python strings \n",
    "import warnings \n",
    "warnings.filterwarnings('ignore') \n",
    "import numpy as np \n",
    "from sklearn.feature_extraction.text import TfidfVectorizer \n",
    " \n",
    "from sklearn.metrics.pairwise import cosine_similarity \n",
    "from nltk.stem import WordNetLemmatizer"
   ]
  },
  {
   "cell_type": "code",
   "execution_count": 5,
   "id": "3dd7e4e0-8215-4982-95df-09ae0d51effc",
   "metadata": {},
   "outputs": [],
   "source": [
    "import nltk"
   ]
  },
  {
   "cell_type": "code",
   "execution_count": null,
   "id": "4099885f-e8f0-40c5-9edb-78931b43408b",
   "metadata": {},
   "outputs": [],
   "source": [
    "nltk.download('popular', quiet=True) \n",
    "nltk.download('punkt')  \n",
    "nltk.download('wordnet') "
   ]
  },
  {
   "cell_type": "code",
   "execution_count": null,
   "id": "5f4e7358-e5a9-4381-a6ae-8f413f8a4cfd",
   "metadata": {},
   "outputs": [],
   "source": [
    "f=open('input.txt','r', errors = 'ignore') \n",
    "raw = f.read() \n",
    "raw = raw.lower()# converts to lowercase "
   ]
  }
 ],
 "metadata": {
  "kernelspec": {
   "display_name": "Python 3 (ipykernel)",
   "language": "python",
   "name": "python3"
  },
  "language_info": {
   "codemirror_mode": {
    "name": "ipython",
    "version": 3
   },
   "file_extension": ".py",
   "mimetype": "text/x-python",
   "name": "python",
   "nbconvert_exporter": "python",
   "pygments_lexer": "ipython3",
   "version": "3.12.7"
  }
 },
 "nbformat": 4,
 "nbformat_minor": 5
}
